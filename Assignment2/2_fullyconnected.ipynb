{
 "cells": [
  {
   "cell_type": "markdown",
   "metadata": {
    "colab_type": "text",
    "id": "kR-4eNdK6lYS"
   },
   "source": [
    "Deep Learning\n",
    "=============\n",
    "\n",
    "Assignment 2\n",
    "------------\n",
    "\n",
    "Previously in `1_notmnist.ipynb`, we created a pickle with formatted datasets for training, development and testing on the [notMNIST dataset](http://yaroslavvb.blogspot.com/2011/09/notmnist-dataset.html).\n",
    "\n",
    "The goal of this assignment is to progressively train deeper and more accurate models using TensorFlow."
   ]
  },
  {
   "cell_type": "code",
   "execution_count": 1,
   "metadata": {
    "cellView": "both",
    "colab": {
     "autoexec": {
      "startup": false,
      "wait_interval": 0
     }
    },
    "colab_type": "code",
    "collapsed": true,
    "id": "JLpLa8Jt7Vu4"
   },
   "outputs": [],
   "source": [
    "# These are all the modules we'll be using later. Make sure you can import them\n",
    "# before proceeding further.\n",
    "from __future__ import print_function\n",
    "import numpy as np\n",
    "import tensorflow as tf\n",
    "from six.moves import cPickle as pickle\n",
    "from six.moves import range"
   ]
  },
  {
   "cell_type": "markdown",
   "metadata": {
    "colab_type": "text",
    "id": "1HrCK6e17WzV"
   },
   "source": [
    "First reload the data we generated in `1_notmnist.ipynb`."
   ]
  },
  {
   "cell_type": "code",
   "execution_count": 2,
   "metadata": {
    "collapsed": true
   },
   "outputs": [],
   "source": [
    "#just an extra thing to avoid warnings on tensorflow\n",
    "import os\n",
    "os.environ['TF_CPP_MIN_LOG_LEVEL'] = '2'"
   ]
  },
  {
   "cell_type": "code",
   "execution_count": 5,
   "metadata": {
    "cellView": "both",
    "colab": {
     "autoexec": {
      "startup": false,
      "wait_interval": 0
     },
     "output_extras": [
      {
       "item_id": 1
      }
     ]
    },
    "colab_type": "code",
    "executionInfo": {
     "elapsed": 19456,
     "status": "ok",
     "timestamp": 1449847956073,
     "user": {
      "color": "",
      "displayName": "",
      "isAnonymous": false,
      "isMe": true,
      "permissionId": "",
      "photoUrl": "",
      "sessionId": "0",
      "userId": ""
     },
     "user_tz": 480
    },
    "id": "y3-cj1bpmuxc",
    "outputId": "0ddb1607-1fc4-4ddb-de28-6c7ab7fb0c33"
   },
   "outputs": [
    {
     "name": "stdout",
     "output_type": "stream",
     "text": [
      "{'test_labels': array([3, 6, 4, ..., 6, 9, 0]), 'test_dataset': array([[[-0.5       , -0.5       , -0.5       , ..., -0.48823529,\n",
      "         -0.5       , -0.5       ],\n",
      "        [-0.5       , -0.5       , -0.5       , ..., -0.5       ,\n",
      "         -0.48823529, -0.5       ],\n",
      "        [-0.5       , -0.5       , -0.5       , ...,  0.02941176,\n",
      "         -0.5       , -0.49215686],\n",
      "        ..., \n",
      "        [-0.5       , -0.48823529, -0.5       , ..., -0.5       ,\n",
      "         -0.5       , -0.5       ],\n",
      "        [-0.18235295,  0.13529412,  0.07254902, ..., -0.5       ,\n",
      "         -0.5       , -0.5       ],\n",
      "        [ 0.22941177,  0.5       ,  0.49215686, ..., -0.5       ,\n",
      "         -0.5       , -0.5       ]],\n",
      "\n",
      "       [[-0.5       , -0.5       , -0.5       , ..., -0.46470588,\n",
      "         -0.5       , -0.49607843],\n",
      "        [-0.5       , -0.5       , -0.5       , ..., -0.25294119,\n",
      "         -0.5       , -0.48823529],\n",
      "        [-0.5       , -0.5       , -0.5       , ..., -0.43725491,\n",
      "         -0.5       , -0.49607843],\n",
      "        ..., \n",
      "        [-0.5       , -0.5       , -0.49607843, ..., -0.49215686,\n",
      "         -0.5       , -0.5       ],\n",
      "        [-0.5       , -0.5       , -0.5       , ..., -0.5       ,\n",
      "         -0.5       , -0.5       ],\n",
      "        [-0.5       , -0.5       , -0.5       , ..., -0.5       ,\n",
      "         -0.5       , -0.5       ]],\n",
      "\n",
      "       [[-0.5       , -0.5       , -0.5       , ...,  0.48823529,\n",
      "         -0.06078431, -0.5       ],\n",
      "        [-0.5       , -0.5       , -0.5       , ...,  0.49215686,\n",
      "          0.22941177, -0.5       ],\n",
      "        [-0.5       , -0.5       , -0.5       , ...,  0.5       ,\n",
      "         -0.06470589, -0.5       ],\n",
      "        ..., \n",
      "        [-0.46470588,  0.36274511,  0.5       , ..., -0.5       ,\n",
      "         -0.5       , -0.5       ],\n",
      "        [-0.39803922,  0.46078432,  0.5       , ..., -0.5       ,\n",
      "         -0.5       , -0.5       ],\n",
      "        [-0.48039216,  0.20588236,  0.5       , ..., -0.5       ,\n",
      "         -0.5       , -0.5       ]],\n",
      "\n",
      "       ..., \n",
      "       [[-0.49607843, -0.5       , -0.43725491, ...,  0.02156863,\n",
      "         -0.02941176, -0.5       ],\n",
      "        [-0.5       , -0.42156863, -0.04117647, ..., -0.5       ,\n",
      "         -0.16666667, -0.45686275],\n",
      "        [-0.48039216, -0.12352941, -0.39803922, ..., -0.49215686,\n",
      "          0.16666667,  0.36666667],\n",
      "        ..., \n",
      "        [-0.48823529, -0.5       , -0.19019608, ...,  0.5       ,\n",
      "          0.24117647, -0.48431373],\n",
      "        [-0.5       , -0.48823529, -0.5       , ...,  0.31568629,\n",
      "         -0.39019608, -0.49607843],\n",
      "        [-0.5       , -0.5       , -0.48823529, ..., -0.42941177,\n",
      "         -0.5       , -0.49215686]],\n",
      "\n",
      "       [[-0.5       , -0.5       , -0.5       , ...,  0.5       ,\n",
      "          0.5       ,  0.5       ],\n",
      "        [-0.5       , -0.5       , -0.5       , ...,  0.5       ,\n",
      "          0.5       ,  0.5       ],\n",
      "        [-0.5       , -0.5       , -0.5       , ...,  0.5       ,\n",
      "          0.5       ,  0.5       ],\n",
      "        ..., \n",
      "        [-0.49215686, -0.5       , -0.37058824, ..., -0.49215686,\n",
      "         -0.49607843, -0.49607843],\n",
      "        [-0.5       , -0.49215686, -0.5       , ..., -0.48823529,\n",
      "         -0.49607843, -0.5       ],\n",
      "        [-0.5       , -0.5       , -0.49215686, ..., -0.49607843,\n",
      "         -0.5       , -0.5       ]],\n",
      "\n",
      "       [[-0.13921569,  0.43333334,  0.1       , ..., -0.5       ,\n",
      "         -0.5       , -0.5       ],\n",
      "        [ 0.22941177,  0.5       ,  0.5       , ..., -0.5       ,\n",
      "         -0.5       , -0.5       ],\n",
      "        [ 0.16666667,  0.49607843,  0.47647059, ..., -0.5       ,\n",
      "         -0.5       , -0.5       ],\n",
      "        ..., \n",
      "        [-0.49607843, -0.5       , -0.47254902, ...,  0.5       ,\n",
      "          0.25686276, -0.48431373],\n",
      "        [-0.49607843, -0.5       , -0.5       , ...,  0.49215686,\n",
      "          0.5       , -0.10392157],\n",
      "        [-0.5       , -0.5       , -0.5       , ...,  0.44901961,\n",
      "          0.34705883, -0.04117647]]], dtype=float32), 'train_labels': array([4, 9, 6, ..., 2, 4, 4]), 'valid_dataset': array([[[ 0.46862745,  0.47254902,  0.47254902, ..., -0.5       ,\n",
      "         -0.5       , -0.5       ],\n",
      "        [ 0.5       ,  0.5       ,  0.5       , ..., -0.49215686,\n",
      "         -0.5       , -0.5       ],\n",
      "        [ 0.5       ,  0.5       ,  0.5       , ..., -0.5       ,\n",
      "         -0.48823529, -0.5       ],\n",
      "        ..., \n",
      "        [ 0.5       ,  0.5       ,  0.5       , ..., -0.48431373,\n",
      "         -0.5       , -0.49607843],\n",
      "        [ 0.5       ,  0.5       ,  0.5       , ..., -0.5       ,\n",
      "         -0.49607843, -0.5       ],\n",
      "        [ 0.5       ,  0.5       ,  0.5       , ..., -0.49607843,\n",
      "         -0.5       , -0.5       ]],\n",
      "\n",
      "       [[-0.5       , -0.5       , -0.5       , ...,  0.3509804 ,\n",
      "          0.42156863,  0.30000001],\n",
      "        [-0.5       , -0.5       , -0.5       , ...,  0.48823529,\n",
      "          0.5       ,  0.03333334],\n",
      "        [-0.5       , -0.5       , -0.5       , ...,  0.5       ,\n",
      "          0.47254902, -0.24901961],\n",
      "        ..., \n",
      "        [-0.46078432,  0.12745099,  0.5       , ..., -0.5       ,\n",
      "         -0.5       , -0.5       ],\n",
      "        [ 0.08039216,  0.5       ,  0.49215686, ..., -0.5       ,\n",
      "         -0.5       , -0.5       ],\n",
      "        [-0.43333334, -0.25294119,  0.0372549 , ..., -0.5       ,\n",
      "         -0.5       , -0.5       ]],\n",
      "\n",
      "       [[ 0.21372549,  0.5       ,  0.48039216, ..., -0.5       ,\n",
      "         -0.5       , -0.5       ],\n",
      "        [-0.22941177,  0.31176472,  0.5       , ..., -0.5       ,\n",
      "         -0.5       , -0.5       ],\n",
      "        [-0.5       , -0.46862745,  0.01764706, ..., -0.49607843,\n",
      "         -0.5       , -0.5       ],\n",
      "        ..., \n",
      "        [-0.5       , -0.47647059, -0.01372549, ..., -0.48823529,\n",
      "         -0.5       , -0.5       ],\n",
      "        [-0.26078433,  0.28823531,  0.5       , ..., -0.5       ,\n",
      "         -0.5       , -0.5       ],\n",
      "        [ 0.18627451,  0.5       ,  0.48039216, ..., -0.5       ,\n",
      "         -0.5       , -0.5       ]],\n",
      "\n",
      "       ..., \n",
      "       [[ 0.48039216,  0.48431373,  0.48431373, ...,  0.48431373,\n",
      "          0.48431373,  0.48039216],\n",
      "        [ 0.5       ,  0.5       ,  0.5       , ...,  0.5       ,\n",
      "          0.5       ,  0.5       ],\n",
      "        [-0.07254902, -0.00588235,  0.07254902, ...,  0.05686275,\n",
      "         -0.01372549, -0.07254902],\n",
      "        ..., \n",
      "        [-0.07254902, -0.01372549,  0.05686275, ...,  0.07647059,\n",
      "         -0.00588235, -0.07254902],\n",
      "        [ 0.5       ,  0.5       ,  0.5       , ...,  0.5       ,\n",
      "          0.5       ,  0.5       ],\n",
      "        [ 0.48039216,  0.48431373,  0.48431373, ...,  0.48431373,\n",
      "          0.48431373,  0.48039216]],\n",
      "\n",
      "       [[-0.5       , -0.5       , -0.5       , ..., -0.44509804,\n",
      "         -0.5       , -0.49607843],\n",
      "        [-0.5       , -0.5       , -0.5       , ...,  0.35490197,\n",
      "         -0.19411765, -0.5       ],\n",
      "        [-0.5       , -0.5       , -0.5       , ...,  0.5       ,\n",
      "          0.5       , -0.16666667],\n",
      "        ..., \n",
      "        [-0.48823529, -0.5       , -0.37843138, ..., -0.5       ,\n",
      "         -0.5       , -0.5       ],\n",
      "        [-0.5       , -0.48823529, -0.5       , ..., -0.5       ,\n",
      "         -0.5       , -0.5       ],\n",
      "        [-0.5       , -0.5       , -0.49215686, ..., -0.5       ,\n",
      "         -0.5       , -0.5       ]],\n",
      "\n",
      "       [[-0.07647059,  0.5       ,  0.5       , ...,  0.5       ,\n",
      "          0.5       ,  0.02941176],\n",
      "        [ 0.28039217,  0.05294118, -0.04509804, ..., -0.05294118,\n",
      "          0.00980392,  0.34313726],\n",
      "        [ 0.20196079, -0.5       , -0.5       , ..., -0.5       ,\n",
      "         -0.5       ,  0.18235295],\n",
      "        ..., \n",
      "        [-0.5       , -0.5       , -0.5       , ..., -0.5       ,\n",
      "         -0.5       , -0.5       ],\n",
      "        [-0.5       , -0.5       , -0.5       , ..., -0.5       ,\n",
      "         -0.5       , -0.5       ],\n",
      "        [-0.5       , -0.5       , -0.5       , ..., -0.5       ,\n",
      "         -0.5       , -0.5       ]]], dtype=float32), 'valid_labels': array([1, 9, 3, ..., 8, 9, 8]), 'train_dataset': array([[[-0.5       , -0.49607843, -0.5       , ..., -0.5       ,\n",
      "         -0.49215686, -0.5       ],\n",
      "        [-0.49607843, -0.47647059, -0.5       , ..., -0.5       ,\n",
      "         -0.47254902, -0.49607843],\n",
      "        [-0.49607843, -0.49607843, -0.5       , ..., -0.5       ,\n",
      "         -0.49607843, -0.49607843],\n",
      "        ..., \n",
      "        [-0.49607843, -0.49215686, -0.5       , ..., -0.5       ,\n",
      "         -0.49215686, -0.49607843],\n",
      "        [-0.49607843, -0.47647059, -0.5       , ..., -0.5       ,\n",
      "         -0.47254902, -0.49607843],\n",
      "        [-0.5       , -0.49607843, -0.5       , ..., -0.5       ,\n",
      "         -0.49607843, -0.5       ]],\n",
      "\n",
      "       [[-0.5       , -0.5       , -0.5       , ...,  0.48823529,\n",
      "          0.5       ,  0.1509804 ],\n",
      "        [-0.5       , -0.5       , -0.5       , ...,  0.48431373,\n",
      "          0.14705883, -0.32745099],\n",
      "        [-0.5       , -0.5       , -0.5       , ..., -0.32745099,\n",
      "         -0.5       , -0.49607843],\n",
      "        ..., \n",
      "        [-0.5       , -0.44901961,  0.1509804 , ..., -0.5       ,\n",
      "         -0.5       , -0.5       ],\n",
      "        [-0.49607843, -0.49607843, -0.49215686, ..., -0.5       ,\n",
      "         -0.5       , -0.5       ],\n",
      "        [-0.5       , -0.49607843, -0.48823529, ..., -0.5       ,\n",
      "         -0.5       , -0.5       ]],\n",
      "\n",
      "       [[-0.5       , -0.5       , -0.5       , ..., -0.5       ,\n",
      "         -0.5       , -0.5       ],\n",
      "        [-0.5       , -0.5       , -0.5       , ..., -0.5       ,\n",
      "         -0.5       , -0.5       ],\n",
      "        [-0.5       , -0.5       , -0.49607843, ..., -0.5       ,\n",
      "         -0.5       , -0.5       ],\n",
      "        ..., \n",
      "        [-0.5       , -0.5       , -0.5       , ..., -0.48823529,\n",
      "         -0.5       , -0.5       ],\n",
      "        [-0.5       , -0.5       , -0.5       , ..., -0.5       ,\n",
      "         -0.5       , -0.5       ],\n",
      "        [-0.5       , -0.5       , -0.5       , ..., -0.5       ,\n",
      "         -0.5       , -0.5       ]],\n",
      "\n",
      "       ..., \n",
      "       [[-0.5       , -0.5       , -0.5       , ..., -0.49215686,\n",
      "         -0.5       , -0.5       ],\n",
      "        [-0.5       , -0.5       , -0.5       , ..., -0.49607843,\n",
      "         -0.49215686, -0.5       ],\n",
      "        [-0.5       , -0.5       , -0.5       , ..., -0.45686275,\n",
      "         -0.5       , -0.48823529],\n",
      "        ..., \n",
      "        [-0.5       , -0.5       , -0.5       , ...,  0.4137255 ,\n",
      "         -0.19019608, -0.5       ],\n",
      "        [-0.5       , -0.5       , -0.5       , ..., -0.45686275,\n",
      "         -0.5       , -0.49607843],\n",
      "        [-0.5       , -0.5       , -0.5       , ..., -0.49607843,\n",
      "         -0.49215686, -0.5       ]],\n",
      "\n",
      "       [[-0.5       , -0.5       , -0.5       , ...,  0.45686275,\n",
      "          0.5       ,  0.20980392],\n",
      "        [-0.5       , -0.5       , -0.5       , ...,  0.49607843,\n",
      "          0.5       ,  0.31568629],\n",
      "        [-0.5       , -0.5       , -0.5       , ..., -0.24509804,\n",
      "         -0.26862746, -0.42156863],\n",
      "        ..., \n",
      "        [ 0.2764706 ,  0.5       ,  0.5       , ...,  0.09215686,\n",
      "         -0.33529413, -0.5       ],\n",
      "        [-0.30784315,  0.32745099,  0.5       , ..., -0.5       ,\n",
      "         -0.5       , -0.5       ],\n",
      "        [-0.5       , -0.44509804, -0.12352941, ..., -0.48823529,\n",
      "         -0.49215686, -0.5       ]],\n",
      "\n",
      "       [[-0.5       , -0.5       , -0.48823529, ...,  0.47647059,\n",
      "          0.5       ,  0.14705883],\n",
      "        [-0.5       , -0.5       , -0.48431373, ...,  0.48431373,\n",
      "          0.5       , -0.01372549],\n",
      "        [-0.5       , -0.5       , -0.48431373, ...,  0.17843138,\n",
      "          0.18235295, -0.28039217],\n",
      "        ..., \n",
      "        [-0.00980392,  0.5       ,  0.48431373, ..., -0.48823529,\n",
      "         -0.5       , -0.5       ],\n",
      "        [ 0.14705883,  0.5       ,  0.48823529, ..., -0.48823529,\n",
      "         -0.5       , -0.5       ],\n",
      "        [ 0.30392158,  0.5       ,  0.49215686, ..., -0.49215686,\n",
      "         -0.5       , -0.5       ]]], dtype=float32)}\n",
      "Training set (200000, 28, 28) (200000,)\n",
      "Validation set (10000, 28, 28) (10000,)\n",
      "Test set (10000, 28, 28) (10000,)\n"
     ]
    }
   ],
   "source": [
    "pickle_file = 'notMNIST.pickle'\n",
    "\n",
    "with open(pickle_file, 'rb') as f:\n",
    "  save = pickle.load(f)\n",
    "  print(save)\n",
    "  train_dataset = save['train_dataset']\n",
    "  train_labels = save['train_labels']\n",
    "  valid_dataset = save['valid_dataset']\n",
    "  valid_labels = save['valid_labels']\n",
    "  test_dataset = save['test_dataset']\n",
    "  test_labels = save['test_labels']\n",
    "  del save  # hint to help gc free up memory\n",
    "  print('Training set', train_dataset.shape, train_labels.shape)\n",
    "  print('Validation set', valid_dataset.shape, valid_labels.shape)\n",
    "  print('Test set', test_dataset.shape, test_labels.shape)"
   ]
  },
  {
   "cell_type": "code",
   "execution_count": 6,
   "metadata": {
    "cellView": "both",
    "colab": {
     "autoexec": {
      "startup": false,
      "wait_interval": 0
     },
     "output_extras": [
      {
       "item_id": 1
      }
     ]
    },
    "colab_type": "code",
    "executionInfo": {
     "elapsed": 19723,
     "status": "ok",
     "timestamp": 1449847956364,
     "user": {
      "color": "",
      "displayName": "",
      "isAnonymous": false,
      "isMe": true,
      "permissionId": "",
      "photoUrl": "",
      "sessionId": "0",
      "userId": ""
     },
     "user_tz": 480
    },
    "id": "IRSyYiIIGIzS",
    "outputId": "2ba0fc75-1487-4ace-a562-cf81cae82793"
   },
   "outputs": [
    {
     "name": "stdout",
     "output_type": "stream",
     "text": [
      "Training set (200000, 784) (200000, 10)\n",
      "Validation set (10000, 784) (10000, 10)\n",
      "Test set (10000, 784) (10000, 10)\n"
     ]
    }
   ],
   "source": [
    "image_size = 28\n",
    "num_labels = 10\n",
    "\n",
    "def reformat(dataset, labels):\n",
    "  dataset = dataset.reshape((-1, image_size * image_size)).astype(np.float32)\n",
    "  # Map 0 to [1.0, 0.0, 0.0 ...], 1 to [0.0, 1.0, 0.0 ...]\n",
    "  labels = (np.arange(num_labels) == labels[:,None]).astype(np.float32)\n",
    "  return dataset, labels\n",
    "train_dataset, train_labels = reformat(train_dataset, train_labels)\n",
    "valid_dataset, valid_labels = reformat(valid_dataset, valid_labels)\n",
    "test_dataset, test_labels = reformat(test_dataset, test_labels)\n",
    "print('Training set', train_dataset.shape, train_labels.shape)\n",
    "print('Validation set', valid_dataset.shape, valid_labels.shape)\n",
    "print('Test set', test_dataset.shape, test_labels.shape)"
   ]
  },
  {
   "cell_type": "code",
   "execution_count": 11,
   "metadata": {},
   "outputs": [
    {
     "data": {
      "text/plain": [
       "(10000, 784)"
      ]
     },
     "execution_count": 11,
     "metadata": {},
     "output_type": "execute_result"
    }
   ],
   "source": [
    "train_dataset[:10000].shape\n"
   ]
  },
  {
   "cell_type": "markdown",
   "metadata": {
    "colab_type": "text",
    "id": "nCLVqyQ5vPPH"
   },
   "source": [
    "We're first going to train a multinomial logistic regression using simple gradient descent.\n",
    "\n",
    "TensorFlow works like this:\n",
    "* First you describe the computation that you want to see performed: what the inputs, the variables, and the operations look like. These get created as nodes over a computation graph. This description is all contained within the block below:\n",
    "\n",
    "      with graph.as_default():\n",
    "          ...\n",
    "\n",
    "* Then you can run the operations on this graph as many times as you want by calling `session.run()`, providing it outputs to fetch from the graph that get returned. This runtime operation is all contained in the block below:\n",
    "\n",
    "      with tf.Session(graph=graph) as session:\n",
    "          ...\n",
    "\n",
    "Let's load all the data into TensorFlow and build the computation graph corresponding to our training:"
   ]
  },
  {
   "cell_type": "code",
   "execution_count": 13,
   "metadata": {
    "cellView": "both",
    "colab": {
     "autoexec": {
      "startup": false,
      "wait_interval": 0
     }
    },
    "colab_type": "code",
    "collapsed": true,
    "id": "Nfv39qvtvOl_"
   },
   "outputs": [],
   "source": [
    "# With gradient descent training, even this much data is prohibitive.\n",
    "# Subset the training data for faster turnaround.\n",
    "train_subset = 10000\n",
    "\n",
    "graph = tf.Graph()\n",
    "with graph.as_default():\n",
    "\n",
    "  # Input data.\n",
    "  # Load the training, validation and test data into constants that are\n",
    "  # attached to the graph.\n",
    "  tf_train_dataset = tf.constant(train_dataset[:train_subset, :])\n",
    "  tf_train_labels = tf.constant(train_labels[:train_subset])\n",
    "  tf_valid_dataset = tf.constant(valid_dataset)\n",
    "  tf_test_dataset = tf.constant(test_dataset)\n",
    "  \n",
    "  # Variables.\n",
    "  # These are the parameters that we are going to be training. The weight\n",
    "  # matrix will be initialized using random values following a (truncated)\n",
    "  # normal distribution. The biases get initialized to zero.\n",
    "  weights = tf.Variable(\n",
    "    tf.truncated_normal([image_size * image_size, num_labels]))\n",
    "  biases = tf.Variable(tf.zeros([num_labels]))\n",
    "  \n",
    "  # Training computation.\n",
    "  # We multiply the inputs with the weight matrix, and add biases. We compute\n",
    "  # the softmax and cross-entropy (it's one operation in TensorFlow, because\n",
    "  # it's very common, and it can be optimized). We take the average of this\n",
    "  # cross-entropy across all training examples: that's our loss.\n",
    "  logits = tf.matmul(tf_train_dataset, weights) + biases\n",
    "  loss = tf.reduce_mean(\n",
    "    tf.nn.softmax_cross_entropy_with_logits(labels=tf_train_labels, logits=logits))\n",
    "  \n",
    "  # Optimizer.\n",
    "  # We are going to find the minimum of this loss using gradient descent.\n",
    "  optimizer = tf.train.GradientDescentOptimizer(0.5).minimize(loss)\n",
    "  \n",
    "  # Predictions for the training, validation, and test data.\n",
    "  # These are not part of training, but merely here so that we can report\n",
    "  # accuracy figures as we train.\n",
    "  train_prediction = tf.nn.softmax(logits)\n",
    "  valid_prediction = tf.nn.softmax(\n",
    "    tf.matmul(tf_valid_dataset, weights) + biases)\n",
    "  test_prediction = tf.nn.softmax(tf.matmul(tf_test_dataset, weights) + biases)"
   ]
  },
  {
   "cell_type": "markdown",
   "metadata": {
    "colab_type": "text",
    "id": "KQcL4uqISHjP"
   },
   "source": [
    "Let's run this computation and iterate:"
   ]
  },
  {
   "cell_type": "code",
   "execution_count": 14,
   "metadata": {
    "cellView": "both",
    "colab": {
     "autoexec": {
      "startup": false,
      "wait_interval": 0
     },
     "output_extras": [
      {
       "item_id": 9
      }
     ]
    },
    "colab_type": "code",
    "executionInfo": {
     "elapsed": 57454,
     "status": "ok",
     "timestamp": 1449847994134,
     "user": {
      "color": "",
      "displayName": "",
      "isAnonymous": false,
      "isMe": true,
      "permissionId": "",
      "photoUrl": "",
      "sessionId": "0",
      "userId": ""
     },
     "user_tz": 480
    },
    "id": "z2cjdenH869W",
    "outputId": "4c037ba1-b526-4d8e-e632-91e2a0333267"
   },
   "outputs": [
    {
     "name": "stdout",
     "output_type": "stream",
     "text": [
      "Initialized\n",
      "Loss at step 0: 20.633638\n",
      "Training accuracy: 6.1%\n",
      "Validation accuracy: 8.8%\n",
      "Loss at step 100: 2.330276\n",
      "Training accuracy: 71.8%\n",
      "Validation accuracy: 70.4%\n",
      "Loss at step 200: 1.878558\n",
      "Training accuracy: 75.3%\n",
      "Validation accuracy: 73.2%\n",
      "Loss at step 300: 1.636515\n",
      "Training accuracy: 76.4%\n",
      "Validation accuracy: 73.6%\n",
      "Loss at step 400: 1.471349\n",
      "Training accuracy: 77.2%\n",
      "Validation accuracy: 74.0%\n",
      "Loss at step 500: 1.347398\n",
      "Training accuracy: 77.8%\n",
      "Validation accuracy: 74.2%\n",
      "Loss at step 600: 1.249553\n",
      "Training accuracy: 78.4%\n",
      "Validation accuracy: 74.5%\n",
      "Loss at step 700: 1.169672\n",
      "Training accuracy: 78.8%\n",
      "Validation accuracy: 74.6%\n",
      "Loss at step 800: 1.102905\n",
      "Training accuracy: 79.2%\n",
      "Validation accuracy: 74.6%\n",
      "Test accuracy: 82.5%\n"
     ]
    }
   ],
   "source": [
    "num_steps = 801\n",
    "\n",
    "def accuracy(predictions, labels):\n",
    "  return (100.0 * np.sum(np.argmax(predictions, 1) == np.argmax(labels, 1))\n",
    "          / predictions.shape[0])\n",
    "\n",
    "with tf.Session(graph=graph) as session:\n",
    "  # This is a one-time operation which ensures the parameters get initialized as\n",
    "  # we described in the graph: random weights for the matrix, zeros for the\n",
    "  # biases. \n",
    "  tf.global_variables_initializer().run()\n",
    "  print('Initialized')\n",
    "  for step in range(num_steps):\n",
    "    # Run the computations. We tell .run() that we want to run the optimizer,\n",
    "    # and get the loss value and the training predictions returned as numpy\n",
    "    # arrays.\n",
    "    _, l, predictions = session.run([optimizer, loss, train_prediction])\n",
    "    if (step % 100 == 0):\n",
    "      print('Loss at step %d: %f' % (step, l))\n",
    "      print('Training accuracy: %.1f%%' % accuracy(\n",
    "        predictions, train_labels[:train_subset, :]))\n",
    "      # Calling .eval() on valid_prediction is basically like calling run(), but\n",
    "      # just to get that one numpy array. Note that it recomputes all its graph\n",
    "      # dependencies.\n",
    "      print('Validation accuracy: %.1f%%' % accuracy(\n",
    "        valid_prediction.eval(), valid_labels))\n",
    "  print('Test accuracy: %.1f%%' % accuracy(test_prediction.eval(), test_labels))"
   ]
  },
  {
   "cell_type": "markdown",
   "metadata": {
    "colab_type": "text",
    "id": "x68f-hxRGm3H"
   },
   "source": [
    "Let's now switch to stochastic gradient descent training instead, which is much faster.\n",
    "\n",
    "The graph will be similar, except that instead of holding all the training data into a constant node, we create a `Placeholder` node which will be fed actual data at every call of `session.run()`."
   ]
  },
  {
   "cell_type": "code",
   "execution_count": 8,
   "metadata": {
    "cellView": "both",
    "colab": {
     "autoexec": {
      "startup": false,
      "wait_interval": 0
     }
    },
    "colab_type": "code",
    "collapsed": true,
    "id": "qhPMzWYRGrzM"
   },
   "outputs": [],
   "source": [
    "batch_size = 128\n",
    "\n",
    "graph = tf.Graph()\n",
    "with graph.as_default():\n",
    "\n",
    "  # Input data. For the training data, we use a placeholder that will be fed\n",
    "  # at run time with a training minibatch.\n",
    "  tf_train_dataset = tf.placeholder(tf.float32,\n",
    "                                    shape=(batch_size, image_size * image_size))\n",
    "  tf_train_labels = tf.placeholder(tf.float32, shape=(batch_size, num_labels))\n",
    "  tf_valid_dataset = tf.constant(valid_dataset)\n",
    "  tf_test_dataset = tf.constant(test_dataset)\n",
    "  \n",
    "  # Variables.\n",
    "  weights = tf.Variable(\n",
    "    tf.truncated_normal([image_size * image_size, num_labels]))\n",
    "  biases = tf.Variable(tf.zeros([num_labels]))\n",
    "  \n",
    "  # Training computation.\n",
    "  logits = tf.matmul(tf_train_dataset, weights) + biases\n",
    "  loss = tf.reduce_mean(\n",
    "    tf.nn.softmax_cross_entropy_with_logits(labels=tf_train_labels, logits=logits))\n",
    "  \n",
    "  # Optimizer.\n",
    "  optimizer = tf.train.GradientDescentOptimizer(0.5).minimize(loss)\n",
    "  \n",
    "  # Predictions for the training, validation, and test data.\n",
    "  train_prediction = tf.nn.softmax(logits)\n",
    "  valid_prediction = tf.nn.softmax(\n",
    "    tf.matmul(tf_valid_dataset, weights) + biases)\n",
    "  test_prediction = tf.nn.softmax(tf.matmul(tf_test_dataset, weights) + biases)"
   ]
  },
  {
   "cell_type": "markdown",
   "metadata": {
    "colab_type": "text",
    "id": "XmVZESmtG4JH"
   },
   "source": [
    "Let's run it:"
   ]
  },
  {
   "cell_type": "code",
   "execution_count": 9,
   "metadata": {
    "cellView": "both",
    "colab": {
     "autoexec": {
      "startup": false,
      "wait_interval": 0
     },
     "output_extras": [
      {
       "item_id": 6
      }
     ]
    },
    "colab_type": "code",
    "executionInfo": {
     "elapsed": 66292,
     "status": "ok",
     "timestamp": 1449848003013,
     "user": {
      "color": "",
      "displayName": "",
      "isAnonymous": false,
      "isMe": true,
      "permissionId": "",
      "photoUrl": "",
      "sessionId": "0",
      "userId": ""
     },
     "user_tz": 480
    },
    "id": "FoF91pknG_YW",
    "outputId": "d255c80e-954d-4183-ca1c-c7333ce91d0a"
   },
   "outputs": [
    {
     "name": "stdout",
     "output_type": "stream",
     "text": [
      "Initialized\n",
      "Minibatch loss at step 0: 19.755173\n",
      "Minibatch accuracy: 7.0%\n",
      "Validation accuracy: 15.5%\n",
      "Minibatch loss at step 500: 0.999937\n",
      "Minibatch accuracy: 80.5%\n",
      "Validation accuracy: 75.3%\n",
      "Minibatch loss at step 1000: 1.451307\n",
      "Minibatch accuracy: 78.1%\n",
      "Validation accuracy: 76.0%\n",
      "Minibatch loss at step 1500: 0.745156\n",
      "Minibatch accuracy: 82.8%\n",
      "Validation accuracy: 76.8%\n",
      "Minibatch loss at step 2000: 0.949655\n",
      "Minibatch accuracy: 84.4%\n",
      "Validation accuracy: 77.1%\n",
      "Minibatch loss at step 2500: 1.000188\n",
      "Minibatch accuracy: 77.3%\n",
      "Validation accuracy: 78.2%\n",
      "Minibatch loss at step 3000: 1.202474\n",
      "Minibatch accuracy: 77.3%\n",
      "Validation accuracy: 78.6%\n",
      "Test accuracy: 86.3%\n"
     ]
    }
   ],
   "source": [
    "num_steps = 3001\n",
    "\n",
    "with tf.Session(graph=graph) as session:\n",
    "  tf.global_variables_initializer().run()\n",
    "  print(\"Initialized\")\n",
    "  for step in range(num_steps):\n",
    "    # Pick an offset within the training data, which has been randomized.\n",
    "    # Note: we could use better randomization across epochs.\n",
    "    offset = (step * batch_size) % (train_labels.shape[0] - batch_size)\n",
    "    # Generate a minibatch.\n",
    "    batch_data = train_dataset[offset:(offset + batch_size), :]\n",
    "    batch_labels = train_labels[offset:(offset + batch_size), :]\n",
    "    # Prepare a dictionary telling the session where to feed the minibatch.\n",
    "    # The key of the dictionary is the placeholder node of the graph to be fed,\n",
    "    # and the value is the numpy array to feed to it.\n",
    "    feed_dict = {tf_train_dataset : batch_data, tf_train_labels : batch_labels}\n",
    "    _, l, predictions = session.run(\n",
    "      [optimizer, loss, train_prediction], feed_dict=feed_dict)\n",
    "    if (step % 500 == 0):\n",
    "      print(\"Minibatch loss at step %d: %f\" % (step, l))\n",
    "      print(\"Minibatch accuracy: %.1f%%\" % accuracy(predictions, batch_labels))\n",
    "      print(\"Validation accuracy: %.1f%%\" % accuracy(\n",
    "        valid_prediction.eval(), valid_labels))\n",
    "  print(\"Test accuracy: %.1f%%\" % accuracy(test_prediction.eval(), test_labels))"
   ]
  },
  {
   "cell_type": "markdown",
   "metadata": {
    "colab_type": "text",
    "id": "7omWxtvLLxik"
   },
   "source": [
    "---\n",
    "Problem\n",
    "-------\n",
    "\n",
    "Turn the logistic regression example with SGD into a 1-hidden layer neural network with rectified linear units [nn.relu()](https://www.tensorflow.org/versions/r0.7/api_docs/python/nn.html#relu) and 1024 hidden nodes. This model should improve your validation / test accuracy.\n",
    "\n",
    "---"
   ]
  },
  {
   "cell_type": "code",
   "execution_count": 21,
   "metadata": {},
   "outputs": [],
   "source": [
    "#1hidden layer with 1024 hidden nodes\n",
    "\n",
    "n_nodes_hl1 = 1024\n",
    "batch_size = 128\n",
    "\n",
    "graph = tf.Graph()\n",
    "with graph.as_default():\n",
    "\n",
    "  # Input data. For the training data, we use a placeholder that will be fed\n",
    "  # at run time with a training minibatch.\n",
    "  tf_train_dataset = tf.placeholder(tf.float32,\n",
    "                                    shape=(batch_size, image_size * image_size))\n",
    "  tf_train_labels = tf.placeholder(tf.float32, shape=(batch_size, num_labels))\n",
    "  tf_valid_dataset = tf.constant(valid_dataset)\n",
    "  tf_test_dataset = tf.constant(test_dataset)\n",
    "    \n",
    "    \n",
    "  \n",
    "  # Variables.\n",
    "    \n",
    "  #for hidden layer 1\n",
    "  weights_hl1 = tf.Variable(tf.truncated_normal([image_size * image_size, n_nodes_hl1]))\n",
    "  biases_hl1 = tf.Variable(tf.zeros([n_nodes_hl1]))\n",
    "\n",
    "  #for output layer\n",
    "  weights_ol = tf.Variable(tf.truncated_normal([n_nodes_hl1,num_labels]))\n",
    "  biases_ol = tf.Variable(tf.zeros([num_labels]))\n",
    "\n",
    "  \n",
    "  # Training computation.\n",
    "  l1 = tf.add(tf.matmul(tf_train_dataset,weights_hl1) ,biases_hl1)\n",
    "  l1 = tf.nn.relu(l1)\n",
    "   \n",
    "  logits = tf.add(tf.matmul(l1,weights_ol),biases_ol)\n",
    "    \n",
    "  loss = tf.reduce_mean(tf.nn.softmax_cross_entropy_with_logits(labels=tf_train_labels, logits=logits))\n",
    "  \n",
    "  # Optimizer.\n",
    "  optimizer = tf.train.GradientDescentOptimizer(0.5).minimize(loss)\n",
    "  \n",
    "  # Predictions for the training, validation, and test data.\n",
    "  train_prediction = tf.nn.softmax(logits)\n",
    "  valid_prediction = tf.nn.softmax(tf.add( tf.matmul( tf.nn.relu( tf.add( tf.matmul( tf_valid_dataset,weights_hl1 ) ,biases_hl1)),weights_ol),biases_ol))\n",
    "  test_prediction = tf.nn.softmax(tf.add(tf.matmul(tf.nn.relu(tf.add(tf.matmul(tf_test_dataset,weights_hl1) ,biases_hl1)),weights_ol),biases_ol))"
   ]
  },
  {
   "cell_type": "code",
   "execution_count": 22,
   "metadata": {},
   "outputs": [
    {
     "name": "stdout",
     "output_type": "stream",
     "text": [
      "Initialized\n",
      "Minibatch loss at step 0: 361.771973\n",
      "Minibatch accuracy: 9.4%\n",
      "Validation accuracy: 30.8%\n",
      "Minibatch loss at step 500: 17.812826\n",
      "Minibatch accuracy: 84.4%\n",
      "Validation accuracy: 80.3%\n",
      "Minibatch loss at step 1000: 12.071592\n",
      "Minibatch accuracy: 75.0%\n",
      "Validation accuracy: 81.2%\n",
      "Minibatch loss at step 1500: 5.423685\n",
      "Minibatch accuracy: 89.1%\n",
      "Validation accuracy: 81.1%\n",
      "Minibatch loss at step 2000: 1.962940\n",
      "Minibatch accuracy: 88.3%\n",
      "Validation accuracy: 81.5%\n",
      "Minibatch loss at step 2500: 3.912086\n",
      "Minibatch accuracy: 82.8%\n",
      "Validation accuracy: 80.9%\n",
      "Minibatch loss at step 3000: 2.482653\n",
      "Minibatch accuracy: 80.5%\n",
      "Validation accuracy: 81.8%\n",
      "Test accuracy: 88.9%\n"
     ]
    }
   ],
   "source": [
    "#just copied from the sgd one above... \n",
    "    \n",
    "num_steps = 3001\n",
    "\n",
    "with tf.Session(graph=graph) as session:\n",
    "  tf.global_variables_initializer().run()\n",
    "  print(\"Initialized\")\n",
    "  for step in range(num_steps):\n",
    "    # Pick an offset within the training data, which has been randomized.\n",
    "    # Note: we could use better randomization across epochs.\n",
    "    offset = (step * batch_size) % (train_labels.shape[0] - batch_size)\n",
    "    # Generate a minibatch.\n",
    "    batch_data = train_dataset[offset:(offset + batch_size), :]\n",
    "    batch_labels = train_labels[offset:(offset + batch_size), :]\n",
    "    # Prepare a dictionary telling the session where to feed the minibatch.\n",
    "    # The key of the dictionary is the placeholder node of the graph to be fed,\n",
    "    # and the value is the numpy array to feed to it.\n",
    "    feed_dict = {tf_train_dataset : batch_data, tf_train_labels : batch_labels}\n",
    "    _, l, predictions = session.run(\n",
    "      [optimizer, loss, train_prediction], feed_dict=feed_dict)\n",
    "    if (step % 500 == 0):\n",
    "      print(\"Minibatch loss at step %d: %f\" % (step, l))\n",
    "      print(\"Minibatch accuracy: %.1f%%\" % accuracy(predictions, batch_labels))\n",
    "      print(\"Validation accuracy: %.1f%%\" % accuracy(\n",
    "        valid_prediction.eval(), valid_labels))\n",
    "  print(\"Test accuracy: %.1f%%\" % accuracy(test_prediction.eval(), test_labels))\n",
    " \n",
    "    \n",
    "    "
   ]
  },
  {
   "cell_type": "code",
   "execution_count": null,
   "metadata": {
    "collapsed": true
   },
   "outputs": [],
   "source": []
  }
 ],
 "metadata": {
  "colab": {
   "default_view": {},
   "name": "2_fullyconnected.ipynb",
   "provenance": [],
   "version": "0.3.2",
   "views": {}
  },
  "kernelspec": {
   "display_name": "Python 3",
   "language": "python",
   "name": "python3"
  },
  "language_info": {
   "codemirror_mode": {
    "name": "ipython",
    "version": 3
   },
   "file_extension": ".py",
   "mimetype": "text/x-python",
   "name": "python",
   "nbconvert_exporter": "python",
   "pygments_lexer": "ipython3",
   "version": "3.5.0"
  }
 },
 "nbformat": 4,
 "nbformat_minor": 1
}
