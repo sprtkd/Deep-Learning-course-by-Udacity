{
 "cells": [
  {
   "cell_type": "markdown",
   "metadata": {
    "colab_type": "text",
    "id": "5hIbr52I7Z7U"
   },
   "source": [
    "Deep Learning\n",
    "=============\n",
    "\n",
    "Assignment 1\n",
    "------------\n",
    "\n",
    "The objective of this assignment is to learn about simple data curation practices, and familiarize you with some of the data we'll be reusing later.\n",
    "\n",
    "This notebook uses the [notMNIST](http://yaroslavvb.blogspot.com/2011/09/notmnist-dataset.html) dataset to be used with python experiments. This dataset is designed to look like the classic [MNIST](http://yann.lecun.com/exdb/mnist/) dataset, while looking a little more like real data: it's a harder task, and the data is a lot less 'clean' than MNIST."
   ]
  },
  {
   "cell_type": "code",
   "execution_count": 2,
   "metadata": {
    "cellView": "both",
    "colab": {
     "autoexec": {
      "startup": false,
      "wait_interval": 0
     }
    },
    "colab_type": "code",
    "collapsed": true,
    "id": "apJbCsBHl-2A"
   },
   "outputs": [],
   "source": [
    "# These are all the modules we'll be using later. Make sure you can import them\n",
    "# before proceeding further.\n",
    "from __future__ import print_function\n",
    "import matplotlib.pyplot as plt\n",
    "import numpy as np\n",
    "import os\n",
    "import sys\n",
    "import tarfile\n",
    "from IPython.display import display, Image\n",
    "from scipy import ndimage\n",
    "from sklearn.linear_model import LogisticRegression\n",
    "from six.moves.urllib.request import urlretrieve\n",
    "from six.moves import cPickle as pickle\n",
    "\n",
    "# Config the matplotlib backend as plotting inline in IPython\n",
    "%matplotlib inline"
   ]
  },
  {
   "cell_type": "markdown",
   "metadata": {
    "colab_type": "text",
    "id": "jNWGtZaXn-5j"
   },
   "source": [
    "First, we'll download the dataset to our local machine. The data consists of characters rendered in a variety of fonts on a 28x28 image. The labels are limited to 'A' through 'J' (10 classes). The training set has about 500k and the testset 19000 labelled examples. Given these sizes, it should be possible to train models quickly on any machine."
   ]
  },
  {
   "cell_type": "code",
   "execution_count": 3,
   "metadata": {
    "cellView": "both",
    "colab": {
     "autoexec": {
      "startup": false,
      "wait_interval": 0
     },
     "output_extras": [
      {
       "item_id": 1
      }
     ]
    },
    "colab_type": "code",
    "collapsed": false,
    "executionInfo": {
     "elapsed": 186058,
     "status": "ok",
     "timestamp": 1444485672507,
     "user": {
      "color": "#1FA15D",
      "displayName": "Vincent Vanhoucke",
      "isAnonymous": false,
      "isMe": true,
      "permissionId": "05076109866853157986",
      "photoUrl": "//lh6.googleusercontent.com/-cCJa7dTDcgQ/AAAAAAAAAAI/AAAAAAAACgw/r2EZ_8oYer4/s50-c-k-no/photo.jpg",
      "sessionId": "2a0a5e044bb03b66",
      "userId": "102167687554210253930"
     },
     "user_tz": 420
    },
    "id": "EYRJ4ICW6-da",
    "outputId": "0d0f85df-155f-4a89-8e7e-ee32df36ec8d"
   },
   "outputs": [
    {
     "name": "stdout",
     "output_type": "stream",
     "text": [
      "Found and verified .\\notMNIST_large.tar.gz\n",
      "Found and verified .\\notMNIST_small.tar.gz\n"
     ]
    }
   ],
   "source": [
    "url = 'http://commondatastorage.googleapis.com/books1000/'\n",
    "last_percent_reported = None\n",
    "data_root = '.' # Change me to store data elsewhere\n",
    "\n",
    "def download_progress_hook(count, blockSize, totalSize):\n",
    "  \"\"\"A hook to report the progress of a download. This is mostly intended for users with\n",
    "  slow internet connections. Reports every 5% change in download progress.\n",
    "  \"\"\"\n",
    "  global last_percent_reported\n",
    "  percent = int(count * blockSize * 100 / totalSize)\n",
    "\n",
    "  if last_percent_reported != percent:\n",
    "    if percent % 5 == 0:\n",
    "      sys.stdout.write(\"%s%%\" % percent)\n",
    "      sys.stdout.flush()\n",
    "    else:\n",
    "      sys.stdout.write(\".\")\n",
    "      sys.stdout.flush()\n",
    "      \n",
    "    last_percent_reported = percent\n",
    "        \n",
    "def maybe_download(filename, expected_bytes, force=False):\n",
    "  \"\"\"Download a file if not present, and make sure it's the right size.\"\"\"\n",
    "  dest_filename = os.path.join(data_root, filename)\n",
    "  if force or not os.path.exists(dest_filename):\n",
    "    print('Attempting to download:', filename) \n",
    "    filename, _ = urlretrieve(url + filename, dest_filename, reporthook=download_progress_hook)\n",
    "    print('\\nDownload Complete!')\n",
    "  statinfo = os.stat(dest_filename)\n",
    "  if statinfo.st_size == expected_bytes:\n",
    "    print('Found and verified', dest_filename)\n",
    "  else:\n",
    "    raise Exception(\n",
    "      'Failed to verify ' + dest_filename + '. Can you get to it with a browser?')\n",
    "  return dest_filename\n",
    "\n",
    "train_filename = maybe_download('notMNIST_large.tar.gz', 247336696)\n",
    "test_filename = maybe_download('notMNIST_small.tar.gz', 8458043)"
   ]
  },
  {
   "cell_type": "markdown",
   "metadata": {
    "colab_type": "text",
    "id": "cC3p0oEyF8QT"
   },
   "source": [
    "Extract the dataset from the compressed .tar.gz file.\n",
    "This should give you a set of directories, labelled A through J."
   ]
  },
  {
   "cell_type": "code",
   "execution_count": 4,
   "metadata": {
    "cellView": "both",
    "colab": {
     "autoexec": {
      "startup": false,
      "wait_interval": 0
     },
     "output_extras": [
      {
       "item_id": 1
      }
     ]
    },
    "colab_type": "code",
    "collapsed": false,
    "executionInfo": {
     "elapsed": 186055,
     "status": "ok",
     "timestamp": 1444485672525,
     "user": {
      "color": "#1FA15D",
      "displayName": "Vincent Vanhoucke",
      "isAnonymous": false,
      "isMe": true,
      "permissionId": "05076109866853157986",
      "photoUrl": "//lh6.googleusercontent.com/-cCJa7dTDcgQ/AAAAAAAAAAI/AAAAAAAACgw/r2EZ_8oYer4/s50-c-k-no/photo.jpg",
      "sessionId": "2a0a5e044bb03b66",
      "userId": "102167687554210253930"
     },
     "user_tz": 420
    },
    "id": "H8CBE-WZ8nmj",
    "outputId": "ef6c790c-2513-4b09-962e-27c79390c762"
   },
   "outputs": [
    {
     "name": "stdout",
     "output_type": "stream",
     "text": [
      ".\\notMNIST_large already present - Skipping extraction of .\\notMNIST_large.tar.gz.\n",
      "['.\\\\notMNIST_large\\\\A', '.\\\\notMNIST_large\\\\B', '.\\\\notMNIST_large\\\\C', '.\\\\notMNIST_large\\\\D', '.\\\\notMNIST_large\\\\E', '.\\\\notMNIST_large\\\\F', '.\\\\notMNIST_large\\\\G', '.\\\\notMNIST_large\\\\H', '.\\\\notMNIST_large\\\\I', '.\\\\notMNIST_large\\\\J']\n",
      ".\\notMNIST_small already present - Skipping extraction of .\\notMNIST_small.tar.gz.\n",
      "['.\\\\notMNIST_small\\\\A', '.\\\\notMNIST_small\\\\B', '.\\\\notMNIST_small\\\\C', '.\\\\notMNIST_small\\\\D', '.\\\\notMNIST_small\\\\E', '.\\\\notMNIST_small\\\\F', '.\\\\notMNIST_small\\\\G', '.\\\\notMNIST_small\\\\H', '.\\\\notMNIST_small\\\\I', '.\\\\notMNIST_small\\\\J']\n"
     ]
    }
   ],
   "source": [
    "num_classes = 10\n",
    "np.random.seed(133)\n",
    "\n",
    "def maybe_extract(filename, force=False):\n",
    "  root = os.path.splitext(os.path.splitext(filename)[0])[0]  # remove .tar.gz\n",
    "  if os.path.isdir(root) and not force:\n",
    "    # You may override by setting force=True.\n",
    "    print('%s already present - Skipping extraction of %s.' % (root, filename))\n",
    "  else:\n",
    "    print('Extracting data for %s. This may take a while. Please wait.' % root)\n",
    "    tar = tarfile.open(filename)\n",
    "    sys.stdout.flush()\n",
    "    tar.extractall(data_root)\n",
    "    tar.close()\n",
    "  data_folders = [\n",
    "    os.path.join(root, d) for d in sorted(os.listdir(root))\n",
    "    if os.path.isdir(os.path.join(root, d))]\n",
    "  if len(data_folders) != num_classes:\n",
    "    raise Exception(\n",
    "      'Expected %d folders, one per class. Found %d instead.' % (\n",
    "        num_classes, len(data_folders)))\n",
    "  print(data_folders)\n",
    "  return data_folders\n",
    "  \n",
    "train_folders = maybe_extract(train_filename)\n",
    "test_folders = maybe_extract(test_filename)"
   ]
  },
  {
   "cell_type": "markdown",
   "metadata": {
    "colab_type": "text",
    "id": "4riXK3IoHgx6"
   },
   "source": [
    "---\n",
    "Problem 1\n",
    "---------\n",
    "\n",
    "Let's take a peek at some of the data to make sure it looks sensible. Each exemplar should be an image of a character A through J rendered in a different font. Display a sample of the images that we just downloaded. Hint: you can use the package IPython.display.\n",
    "\n",
    "---"
   ]
  },
  {
   "cell_type": "code",
   "execution_count": 5,
   "metadata": {
    "collapsed": false
   },
   "outputs": [
    {
     "name": "stdout",
     "output_type": "stream",
     "text": [
      ".\\notMNIST_large\\A\\a2Fua2FuYSBLLnR0Zg==.png\n"
     ]
    },
    {
     "data": {
      "image/png": "[encoded data removed]",
      "text/plain": [
       "<IPython.core.display.Image object>"
      ]
     },
     "execution_count": 5,
     "metadata": {},
     "output_type": "execute_result"
    }
   ],
   "source": [
    "#answer to problem 1\n",
    "path_for_img = os.path.join(train_folders[0],os.listdir(train_folders[0])[4])\n",
    "print (path_for_img)\n",
    "Image(filename=path_for_img) "
   ]
  },
  {
   "cell_type": "markdown",
   "metadata": {
    "colab_type": "text",
    "id": "PBdkjESPK8tw"
   },
   "source": [
    "Now let's load the data in a more manageable format. Since, depending on your computer setup you might not be able to fit it all in memory, we'll load each class into a separate dataset, store them on disk and curate them independently. Later we'll merge them into a single dataset of manageable size.\n",
    "\n",
    "We'll convert the entire dataset into a 3D array (image index, x, y) of floating point values, normalized to have approximately zero mean and standard deviation ~0.5 to make training easier down the road. \n",
    "\n",
    "A few images might not be readable, we'll just skip them."
   ]
  },
  {
   "cell_type": "code",
   "execution_count": 6,
   "metadata": {
    "cellView": "both",
    "colab": {
     "autoexec": {
      "startup": false,
      "wait_interval": 0
     },
     "output_extras": [
      {
       "item_id": 30
      }
     ]
    },
    "colab_type": "code",
    "collapsed": false,
    "executionInfo": {
     "elapsed": 399874,
     "status": "ok",
     "timestamp": 1444485886378,
     "user": {
      "color": "#1FA15D",
      "displayName": "Vincent Vanhoucke",
      "isAnonymous": false,
      "isMe": true,
      "permissionId": "05076109866853157986",
      "photoUrl": "//lh6.googleusercontent.com/-cCJa7dTDcgQ/AAAAAAAAAAI/AAAAAAAACgw/r2EZ_8oYer4/s50-c-k-no/photo.jpg",
      "sessionId": "2a0a5e044bb03b66",
      "userId": "102167687554210253930"
     },
     "user_tz": 420
    },
    "id": "h7q0XhG3MJdf",
    "outputId": "92c391bb-86ff-431d-9ada-315568a19e59",
    "scrolled": true
   },
   "outputs": [
    {
     "name": "stdout",
     "output_type": "stream",
     "text": [
      ".\\notMNIST_large\\A.pickle already present - Skipping pickling.\n",
      ".\\notMNIST_large\\B.pickle already present - Skipping pickling.\n",
      ".\\notMNIST_large\\C.pickle already present - Skipping pickling.\n",
      ".\\notMNIST_large\\D.pickle already present - Skipping pickling.\n",
      ".\\notMNIST_large\\E.pickle already present - Skipping pickling.\n",
      ".\\notMNIST_large\\F.pickle already present - Skipping pickling.\n",
      ".\\notMNIST_large\\G.pickle already present - Skipping pickling.\n",
      ".\\notMNIST_large\\H.pickle already present - Skipping pickling.\n",
      ".\\notMNIST_large\\I.pickle already present - Skipping pickling.\n",
      ".\\notMNIST_large\\J.pickle already present - Skipping pickling.\n",
      ".\\notMNIST_small\\A.pickle already present - Skipping pickling.\n",
      ".\\notMNIST_small\\B.pickle already present - Skipping pickling.\n",
      ".\\notMNIST_small\\C.pickle already present - Skipping pickling.\n",
      ".\\notMNIST_small\\D.pickle already present - Skipping pickling.\n",
      ".\\notMNIST_small\\E.pickle already present - Skipping pickling.\n",
      ".\\notMNIST_small\\F.pickle already present - Skipping pickling.\n",
      ".\\notMNIST_small\\G.pickle already present - Skipping pickling.\n",
      ".\\notMNIST_small\\H.pickle already present - Skipping pickling.\n",
      ".\\notMNIST_small\\I.pickle already present - Skipping pickling.\n",
      ".\\notMNIST_small\\J.pickle already present - Skipping pickling.\n"
     ]
    }
   ],
   "source": [
    "image_size = 28  # Pixel width and height.\n",
    "pixel_depth = 255.0  # Number of levels per pixel.\n",
    "\n",
    "def load_letter(folder, min_num_images):\n",
    "  \"\"\"Load the data for a single letter label.\"\"\"\n",
    "  image_files = os.listdir(folder)\n",
    "  dataset = np.ndarray(shape=(len(image_files), image_size, image_size),\n",
    "                         dtype=np.float32)\n",
    "  print(folder)\n",
    "  num_images = 0\n",
    "  for image in image_files:\n",
    "    image_file = os.path.join(folder, image)\n",
    "    try:\n",
    "      image_data = (ndimage.imread(image_file).astype(float) - \n",
    "                    pixel_depth / 2) / pixel_depth\n",
    "      if image_data.shape != (image_size, image_size):\n",
    "        raise Exception('Unexpected image shape: %s' % str(image_data.shape))\n",
    "      dataset[num_images, :, :] = image_data\n",
    "      num_images = num_images + 1\n",
    "    except IOError as e:\n",
    "      print('Could not read:', image_file, ':', e, '- it\\'s ok, skipping.')\n",
    "    \n",
    "  dataset = dataset[0:num_images, :, :]\n",
    "  if num_images < min_num_images:\n",
    "    raise Exception('Many fewer images than expected: %d < %d' %\n",
    "                    (num_images, min_num_images))\n",
    "    \n",
    "  print('Full dataset tensor:', dataset.shape)\n",
    "  print('Mean:', np.mean(dataset))\n",
    "  print('Standard deviation:', np.std(dataset))\n",
    "  return dataset\n",
    "        \n",
    "def maybe_pickle(data_folders, min_num_images_per_class, force=False):\n",
    "  dataset_names = []\n",
    "  for folder in data_folders:\n",
    "    set_filename = folder + '.pickle'\n",
    "    dataset_names.append(set_filename)\n",
    "    if os.path.exists(set_filename) and not force:\n",
    "      # You may override by setting force=True.\n",
    "      print('%s already present - Skipping pickling.' % set_filename)\n",
    "    else:\n",
    "      print('Pickling %s.' % set_filename)\n",
    "      dataset = load_letter(folder, min_num_images_per_class)\n",
    "      try:\n",
    "        with open(set_filename, 'wb') as f:\n",
    "          pickle.dump(dataset, f, pickle.HIGHEST_PROTOCOL)\n",
    "      except Exception as e:\n",
    "        print('Unable to save data to', set_filename, ':', e)\n",
    "  \n",
    "  return dataset_names\n",
    "\n",
    "train_datasets = maybe_pickle(train_folders, 45000)\n",
    "test_datasets = maybe_pickle(test_folders, 1800)"
   ]
  },
  {
   "cell_type": "markdown",
   "metadata": {
    "colab_type": "text",
    "id": "vUdbskYE2d87"
   },
   "source": [
    "---\n",
    "Problem 2\n",
    "---------\n",
    "\n",
    "Let's verify that the data still looks good. Displaying a sample of the labels and images from the ndarray. Hint: you can use matplotlib.pyplot.\n",
    "\n",
    "---"
   ]
  },
  {
   "cell_type": "code",
   "execution_count": 7,
   "metadata": {
    "collapsed": false
   },
   "outputs": [
    {
     "name": "stdout",
     "output_type": "stream",
     "text": [
      "(28, 28)\n",
      "[[-0.5        -0.5        -0.5        -0.5        -0.49215686 -0.48431373\n",
      "  -0.48431373 -0.48431373 -0.48823529 -0.5        -0.5        -0.5        -0.5\n",
      "  -0.5        -0.5        -0.5        -0.5        -0.5        -0.41764706\n",
      "  -0.32745099 -0.23333333 -0.10392157  0.0372549   0.1627451   0.2647059\n",
      "   0.42156863 -0.07254902 -0.5       ]\n",
      " [-0.5        -0.5        -0.5        -0.49215686 -0.5        -0.5        -0.5\n",
      "  -0.5        -0.5        -0.49215686 -0.43333334 -0.36666667 -0.25686276\n",
      "  -0.13921569 -0.0254902   0.09215686  0.21372549  0.32352942  0.39411765\n",
      "   0.46862745  0.5         0.5         0.5         0.5         0.5         0.5\n",
      "  -0.06470589 -0.5       ]\n",
      " [-0.5        -0.5        -0.5        -0.5        -0.33137256 -0.15882353\n",
      "  -0.03333334  0.09607843  0.21764706  0.31176472  0.40980393  0.49215686\n",
      "   0.5         0.5         0.5         0.5         0.5         0.5         0.5\n",
      "   0.5         0.49607843  0.49215686  0.48823529  0.48431373  0.46862745\n",
      "   0.48431373 -0.07254902 -0.5       ]\n",
      " [-0.5        -0.49607843 -0.48823529  0.07647059  0.48039216  0.5         0.5\n",
      "   0.5         0.5         0.5         0.5         0.5         0.49607843\n",
      "   0.48823529  0.48431373  0.48431373  0.48823529  0.49215686  0.49607843\n",
      "   0.49607843  0.5         0.5         0.5         0.5         0.5         0.5\n",
      "  -0.0372549  -0.5       ]\n",
      " [-0.48823529 -0.5        -0.24117647  0.5         0.48431373  0.46862745\n",
      "   0.47254902  0.48039216  0.48431373  0.49215686  0.49607843  0.49607843\n",
      "   0.5         0.5         0.5         0.5         0.5         0.5         0.5\n",
      "   0.5         0.5         0.5         0.49215686  0.44117647  0.34705883\n",
      "   0.24509804 -0.21372549 -0.5       ]\n",
      " [-0.48431373 -0.5         0.01372549  0.5         0.5         0.5         0.5\n",
      "   0.5         0.5         0.5         0.5         0.5         0.5         0.5\n",
      "   0.5         0.5         0.5         0.5         0.5         0.49215686\n",
      "   0.5         0.38235295 -0.31568629 -0.42156863 -0.47647059 -0.5        -0.5\n",
      "  -0.5       ]\n",
      " [-0.48823529 -0.5        -0.01372549  0.28823531  0.13529412  0.02941176\n",
      "  -0.08039216 -0.22941177 -0.1627451   0.5         0.49607843  0.5         0.5\n",
      "   0.5         0.5         0.5         0.5         0.5         0.5\n",
      "   0.49215686  0.5         0.33529413 -0.5        -0.5        -0.5\n",
      "  -0.49607843 -0.49607843 -0.5       ]\n",
      " [-0.5        -0.5        -0.49607843 -0.5        -0.5        -0.5        -0.5\n",
      "  -0.5        -0.3392157   0.5         0.49607843  0.5         0.5         0.5\n",
      "   0.5         0.5         0.5         0.5         0.5         0.49215686\n",
      "   0.5         0.34313726 -0.49215686 -0.49607843 -0.49607843 -0.5        -0.5\n",
      "  -0.5       ]\n",
      " [-0.5        -0.5        -0.5        -0.49607843 -0.48823529 -0.48039216\n",
      "  -0.47647059 -0.48823529 -0.30000001  0.5         0.49607843  0.5         0.5\n",
      "   0.5         0.5         0.5         0.5         0.5         0.5\n",
      "   0.49215686  0.5         0.34313726 -0.5        -0.5        -0.5        -0.5\n",
      "  -0.5        -0.5       ]\n",
      " [-0.5        -0.5        -0.5        -0.5        -0.5        -0.5\n",
      "  -0.49215686 -0.5        -0.30784315  0.5         0.49607843  0.5         0.5\n",
      "   0.5         0.5         0.5         0.5         0.5         0.5\n",
      "   0.49215686  0.5         0.34313726 -0.5        -0.5        -0.5        -0.5\n",
      "  -0.5        -0.5       ]\n",
      " [-0.5        -0.5        -0.5        -0.5        -0.5        -0.5\n",
      "  -0.49607843 -0.5        -0.31176472  0.5         0.49607843  0.5         0.5\n",
      "   0.5         0.5         0.5         0.5         0.5         0.5\n",
      "   0.49215686  0.5         0.34313726 -0.5        -0.5        -0.5        -0.5\n",
      "  -0.5        -0.5       ]\n",
      " [ 0.35490197  0.35490197  0.35490197  0.35490197  0.35490197  0.35490197\n",
      "   0.35490197  0.35490197  0.38235295  0.5         0.5         0.5         0.5\n",
      "   0.5         0.5         0.5         0.5         0.5         0.5         0.5\n",
      "   0.5         0.47647059  0.35490197  0.35490197  0.35490197  0.3509804\n",
      "   0.35490197  0.22941177]\n",
      " [ 0.5         0.5         0.5         0.5         0.5         0.5         0.5\n",
      "   0.5         0.5         0.5         0.5         0.5         0.5         0.5\n",
      "   0.5         0.5         0.5         0.5         0.5         0.5         0.5\n",
      "   0.5         0.5         0.5         0.5         0.5         0.5\n",
      "   0.37843138]\n",
      " [ 0.5         0.5         0.5         0.5         0.5         0.5         0.5\n",
      "   0.5         0.5         0.5         0.5         0.5         0.5         0.5\n",
      "   0.5         0.5         0.5         0.5         0.5         0.5         0.5\n",
      "   0.5         0.5         0.5         0.5         0.5         0.5\n",
      "   0.36666667]\n",
      " [ 0.4137255   0.4137255   0.4137255   0.4137255   0.4137255   0.4137255\n",
      "   0.4137255   0.4137255   0.44901961  0.5         0.5         0.5         0.5\n",
      "   0.5         0.5         0.5         0.5         0.5         0.5         0.5\n",
      "   0.5         0.44117647  0.4137255   0.4137255   0.4137255   0.40980393\n",
      "   0.4137255   0.28039217]\n",
      " [-0.46470588 -0.46470588 -0.46470588 -0.46470588 -0.46470588 -0.46470588\n",
      "  -0.44901961 -0.46470588  0.04509804  0.5         0.48431373  0.5         0.5\n",
      "   0.5         0.5         0.5         0.5         0.5         0.5\n",
      "   0.49607843  0.5        -0.21372549 -0.46470588 -0.45294118 -0.46470588\n",
      "  -0.46470588 -0.46470588 -0.46862745]\n",
      " [-0.5        -0.5        -0.5        -0.5        -0.5        -0.5        -0.5\n",
      "  -0.5         0.1509804   0.5         0.48431373  0.5         0.5         0.5\n",
      "   0.5         0.5         0.5         0.5         0.5         0.5         0.5\n",
      "  -0.33529413 -0.5        -0.5        -0.5        -0.5        -0.5        -0.5       ]\n",
      " [-0.49607843 -0.49607843 -0.49607843 -0.49607843 -0.49607843 -0.49607843\n",
      "  -0.49607843 -0.49607843  0.2764706   0.5         0.48823529  0.5         0.5\n",
      "   0.5         0.5         0.49607843  0.49607843  0.5         0.49607843\n",
      "   0.5         0.46862745 -0.39019608 -0.49607843 -0.49215686 -0.49607843\n",
      "  -0.49607843 -0.49607843 -0.49607843]\n",
      " [-0.5        -0.5        -0.5        -0.5        -0.5        -0.49607843\n",
      "  -0.5        -0.47254902  0.39019608  0.5         0.49607843  0.5         0.5\n",
      "   0.49607843  0.48823529  0.5         0.5         0.48823529  0.48823529\n",
      "   0.5         0.39803922 -0.43333334 -0.5        -0.49607843 -0.5        -0.5\n",
      "  -0.5        -0.5       ]\n",
      " [-0.5        -0.5        -0.5        -0.5        -0.5        -0.49215686\n",
      "  -0.5        -0.37450981  0.46078432  0.5         0.49607843  0.5         0.5\n",
      "   0.5         0.5         0.46470588  0.46862745  0.5         0.5         0.5\n",
      "   0.33529413 -0.48039216 -0.5        -0.49607843 -0.5        -0.5        -0.5\n",
      "  -0.5       ]\n",
      " [-0.5        -0.5        -0.5        -0.5        -0.5        -0.48823529\n",
      "  -0.5        -0.26862746  0.5         0.49607843  0.5         0.49607843\n",
      "   0.5         0.4254902  -0.11176471 -0.39803922 -0.35882354 -0.06470589\n",
      "   0.44509804  0.5         0.2647059  -0.5        -0.49607843 -0.5        -0.5\n",
      "  -0.5        -0.5        -0.5       ]\n",
      " [-0.5        -0.5        -0.5        -0.5        -0.5        -0.48431373\n",
      "  -0.5        -0.15882353  0.5         0.48431373  0.49607843  0.49215686\n",
      "   0.48431373 -0.24509804 -0.5        -0.38235295 -0.5        -0.5\n",
      "  -0.17058824  0.5         0.19411765 -0.5        -0.48823529 -0.5        -0.5\n",
      "  -0.5        -0.5        -0.5       ]\n",
      " [-0.5        -0.5        -0.5        -0.5        -0.5        -0.48431373\n",
      "  -0.5        -0.0254902   0.5         0.48431373  0.48823529  0.5\n",
      "   0.31176472 -0.5         0.20196079  0.5        -0.10392157 -0.48823529\n",
      "  -0.48039216  0.42941177  0.14313726 -0.5        -0.48823529 -0.5        -0.5\n",
      "  -0.5        -0.5        -0.5       ]\n",
      " [-0.5        -0.5        -0.5        -0.5        -0.5        -0.48823529\n",
      "  -0.5         0.11568628  0.5         0.48823529  0.48823529  0.5\n",
      "   0.30000001 -0.5        -0.03333334  0.26078433 -0.26078433 -0.48823529\n",
      "  -0.49215686  0.4254902   0.05294118 -0.5        -0.48431373 -0.5        -0.5\n",
      "  -0.5        -0.5        -0.5       ]\n",
      " [-0.5        -0.5        -0.5        -0.5        -0.5        -0.49215686\n",
      "  -0.5         0.2372549   0.5         0.48823529  0.49607843  0.49215686\n",
      "   0.47647059 -0.26862746 -0.5        -0.5        -0.5        -0.5\n",
      "  -0.22941177  0.5        -0.06862745 -0.5        -0.48431373 -0.5        -0.5\n",
      "  -0.5        -0.5        -0.5       ]\n",
      " [-0.5        -0.5        -0.5        -0.5        -0.49607843 -0.5\n",
      "  -0.48039216  0.33529413  0.5         0.49215686  0.5         0.49215686\n",
      "   0.5         0.40196079 -0.15490197 -0.4254902  -0.42156863 -0.14705883\n",
      "   0.40196079  0.5        -0.18235295 -0.5        -0.48431373 -0.5        -0.5\n",
      "  -0.5        -0.5        -0.5       ]\n",
      " [-0.5        -0.5        -0.5        -0.5        -0.49607843 -0.5\n",
      "  -0.4137255   0.44117647  0.5         0.49607843  0.5         0.5\n",
      "   0.49607843  0.5         0.5         0.41764706  0.42156863  0.5         0.5\n",
      "   0.32352942 -0.44901961 -0.49607843 -0.49607843 -0.5        -0.5        -0.5\n",
      "  -0.5        -0.5       ]\n",
      " [-0.5        -0.5        -0.5        -0.5        -0.49215686 -0.5\n",
      "  -0.32352942  0.5         0.5         0.5         0.5         0.5         0.5\n",
      "   0.49215686  0.49215686  0.5         0.5         0.44509804  0.20588236\n",
      "  -0.35490197 -0.5        -0.49215686 -0.5        -0.5        -0.5        -0.5\n",
      "  -0.5        -0.5       ]]\n"
     ]
    },
    {
     "data": {
      "image/png": "[encoded data removed]",
      "text/plain": [
       "<matplotlib.figure.Figure at 0x279f32d8a58>"
      ]
     },
     "metadata": {},
     "output_type": "display_data"
    }
   ],
   "source": [
    "#answer to problem 2\n",
    "file = open(train_datasets[0],'rb')\n",
    "object_file = pickle.load(file)\n",
    "img = object_file[4]\n",
    "print(img.shape)\n",
    "file.close()\n",
    "#img = Imager.fromarray(object_file[8], 'L')\n",
    "#img.save('my.png')\n",
    "#img.show()\n",
    "print(img)\n",
    "plt.imshow(img,cmap='gray')\n",
    "plt.show()"
   ]
  },
  {
   "cell_type": "markdown",
   "metadata": {
    "colab_type": "text",
    "id": "cYznx5jUwzoO"
   },
   "source": [
    "---\n",
    "Problem 3\n",
    "---------\n",
    "Another check: we expect the data to be balanced across classes. Verify that.\n",
    "\n",
    "---"
   ]
  },
  {
   "cell_type": "code",
   "execution_count": 8,
   "metadata": {
    "collapsed": false
   },
   "outputs": [
    {
     "name": "stdout",
     "output_type": "stream",
     "text": [
      "Total images in .\\notMNIST_small\\A.pickle : 1872\n",
      "Total images in .\\notMNIST_small\\B.pickle : 1873\n",
      "Total images in .\\notMNIST_small\\C.pickle : 1873\n",
      "Total images in .\\notMNIST_small\\D.pickle : 1873\n",
      "Total images in .\\notMNIST_small\\E.pickle : 1873\n",
      "Total images in .\\notMNIST_small\\F.pickle : 1872\n",
      "Total images in .\\notMNIST_small\\G.pickle : 1872\n",
      "Total images in .\\notMNIST_small\\H.pickle : 1872\n",
      "Total images in .\\notMNIST_small\\I.pickle : 1872\n",
      "Total images in .\\notMNIST_small\\J.pickle : 1872\n",
      "mean of # images : 1872.4\n",
      "Well balanced 1872\n",
      "Well balanced 1873\n",
      "Well balanced 1873\n",
      "Well balanced 1873\n",
      "Well balanced 1873\n",
      "Well balanced 1872\n",
      "Well balanced 1872\n",
      "Well balanced 1872\n",
      "Well balanced 1872\n",
      "Well balanced 1872\n"
     ]
    },
    {
     "data": {
      "image/png": "[encoded data removed]",
      "text/plain": [
       "<matplotlib.figure.Figure at 0x279f45afe10>"
      ]
     },
     "metadata": {},
     "output_type": "display_data"
    },
    {
     "name": "stdout",
     "output_type": "stream",
     "text": [
      "Total images in .\\notMNIST_large\\A.pickle : 52909\n",
      "Total images in .\\notMNIST_large\\B.pickle : 52911\n",
      "Total images in .\\notMNIST_large\\C.pickle : 52912\n",
      "Total images in .\\notMNIST_large\\D.pickle : 52911\n",
      "Total images in .\\notMNIST_large\\E.pickle : 52912\n",
      "Total images in .\\notMNIST_large\\F.pickle : 52912\n",
      "Total images in .\\notMNIST_large\\G.pickle : 52912\n",
      "Total images in .\\notMNIST_large\\H.pickle : 52912\n",
      "Total images in .\\notMNIST_large\\I.pickle : 52912\n",
      "Total images in .\\notMNIST_large\\J.pickle : 52911\n",
      "mean of # images : 52911.4\n",
      "Well balanced 52909\n",
      "Well balanced 52911\n",
      "Well balanced 52912\n",
      "Well balanced 52911\n",
      "Well balanced 52912\n",
      "Well balanced 52912\n",
      "Well balanced 52912\n",
      "Well balanced 52912\n",
      "Well balanced 52912\n",
      "Well balanced 52911\n"
     ]
    },
    {
     "data": {
      "image/png": "[encoded data removed]",
      "text/plain": [
       "<matplotlib.figure.Figure at 0x279f45afd68>"
      ]
     },
     "metadata": {},
     "output_type": "display_data"
    },
    {
     "data": {
      "image/png": "[encoded data removed]",
      "text/plain": [
       "<matplotlib.figure.Figure at 0x279f471edd8>"
      ]
     },
     "metadata": {},
     "output_type": "display_data"
    }
   ],
   "source": [
    "#taken from a git\n",
    "\n",
    "def generate_fake_label(sizes):\n",
    "    labels = np.ndarray(sum(sizes), dtype=np.int32)\n",
    "    start = 0\n",
    "    end = 0\n",
    "    for label, size in enumerate(sizes):\n",
    "        start = end\n",
    "        end += size\n",
    "        for j in range(start, end):\n",
    "            labels[j] = label\n",
    "    return labels\n",
    "\n",
    "\n",
    "def plot_balance():\n",
    "    fig, ax = plt.subplots(1, 2)\n",
    "    bins = np.arange(train_labels.min(), train_labels.max() + 2)\n",
    "    ax[0].hist(train_labels, bins=bins)\n",
    "    ax[0].set_xticks((bins[:-1] + bins[1:]) / 2, [chr(k) for k in range(ord(\"A\"), ord(\"J\") + 1)])\n",
    "    ax[0].set_title(\"Training data\")\n",
    "\n",
    "    bins = np.arange(test_labels.min(), test_labels.max() + 2)\n",
    "    ax[1].hist(test_labels, bins=bins)\n",
    "    ax[1].set_xticks((bins[:-1] + bins[1:]) / 2, [chr(k) for k in range(ord(\"A\"), ord(\"J\") + 1)])\n",
    "    ax[1].set_title(\"Test data\")\n",
    "    plt.show()\n",
    "\n",
    "\n",
    "def mean(numbers):\n",
    "    return float(sum(numbers)) / max(len(numbers), 1)\n",
    "\n",
    "\n",
    "def balance_check(sizes):\n",
    "    mean_val = mean(sizes)\n",
    "    print('mean of # images :', mean_val)\n",
    "    for i in sizes:\n",
    "        if abs(i - mean_val) > 0.1 * mean_val:\n",
    "            print(\"Too much or less images\")\n",
    "        else:\n",
    "            print(\"Well balanced\", i)\n",
    "\n",
    "\n",
    "def load_and_display_pickle(datasets, sample_size, title=None):\n",
    "    fig = plt.figure()\n",
    "    if title: fig.suptitle(title, fontsize=16, fontweight='bold')\n",
    "    num_of_images = []\n",
    "    for pickle_file in datasets:\n",
    "        with open(pickle_file, 'rb') as f:\n",
    "            data = pickle.load(f)\n",
    "            print('Total images in', pickle_file, ':', len(data))\n",
    "\n",
    "            for index, image in enumerate(data):\n",
    "                if index == sample_size: break\n",
    "                ax = fig.add_subplot(len(datasets), sample_size, sample_size * datasets.index(pickle_file) +\n",
    "                                     index + 1)\n",
    "                ax.imshow(image)\n",
    "                ax.set_axis_off()\n",
    "                ax.imshow(image)\n",
    "\n",
    "            num_of_images.append(len(data))\n",
    "\n",
    "    balance_check(num_of_images)\n",
    "    plt.show()\n",
    "    return num_of_images\n",
    "\n",
    "\n",
    "test_labels = generate_fake_label(load_and_display_pickle(test_datasets, 10, 'Test Datasets'))\n",
    "train_labels = generate_fake_label(load_and_display_pickle(train_datasets, 10, 'Train Datasets'))\n",
    "\n",
    "plot_balance()"
   ]
  },
  {
   "cell_type": "code",
   "execution_count": 9,
   "metadata": {
    "collapsed": false
   },
   "outputs": [
    {
     "name": "stdout",
     "output_type": "stream",
     "text": [
      "Total images in .\\notMNIST_small\\A.pickle : 1872\n",
      "Total images in .\\notMNIST_small\\B.pickle : 1873\n",
      "Total images in .\\notMNIST_small\\C.pickle : 1873\n",
      "Total images in .\\notMNIST_small\\D.pickle : 1873\n",
      "Total images in .\\notMNIST_small\\E.pickle : 1873\n",
      "Total images in .\\notMNIST_small\\F.pickle : 1872\n",
      "Total images in .\\notMNIST_small\\G.pickle : 1872\n",
      "Total images in .\\notMNIST_small\\H.pickle : 1872\n",
      "Total images in .\\notMNIST_small\\I.pickle : 1872\n",
      "Total images in .\\notMNIST_small\\J.pickle : 1872\n",
      "mean of # images : 1872.4\n",
      "Well balanced 1872\n",
      "Well balanced 1873\n",
      "Well balanced 1873\n",
      "Well balanced 1873\n",
      "Well balanced 1873\n",
      "Well balanced 1872\n",
      "Well balanced 1872\n",
      "Well balanced 1872\n",
      "Well balanced 1872\n",
      "Well balanced 1872\n",
      "Total images in .\\notMNIST_large\\A.pickle : 52909\n",
      "Total images in .\\notMNIST_large\\B.pickle : 52911\n",
      "Total images in .\\notMNIST_large\\C.pickle : 52912\n",
      "Total images in .\\notMNIST_large\\D.pickle : 52911\n",
      "Total images in .\\notMNIST_large\\E.pickle : 52912\n",
      "Total images in .\\notMNIST_large\\F.pickle : 52912\n",
      "Total images in .\\notMNIST_large\\G.pickle : 52912\n",
      "Total images in .\\notMNIST_large\\H.pickle : 52912\n",
      "Total images in .\\notMNIST_large\\I.pickle : 52912\n",
      "Total images in .\\notMNIST_large\\J.pickle : 52911\n",
      "mean of # images : 52911.4\n",
      "Well balanced 52909\n",
      "Well balanced 52911\n",
      "Well balanced 52912\n",
      "Well balanced 52911\n",
      "Well balanced 52912\n",
      "Well balanced 52912\n",
      "Well balanced 52912\n",
      "Well balanced 52912\n",
      "Well balanced 52912\n",
      "Well balanced 52911\n"
     ]
    },
    {
     "data": {
      "text/plain": [
       "[52909, 52911, 52912, 52911, 52912, 52912, 52912, 52912, 52912, 52911]"
      ]
     },
     "execution_count": 9,
     "metadata": {},
     "output_type": "execute_result"
    }
   ],
   "source": [
    "#answer to problem 3\n",
    "#my own understood version---\n",
    "\n",
    "def mean(numbers):\n",
    "    return float(sum(numbers)) / max(len(numbers), 1)\n",
    "\n",
    "\n",
    "def balance_check(sizes):\n",
    "    mean_val = mean(sizes)\n",
    "    print('mean of # images :', mean_val)\n",
    "    for i in sizes:\n",
    "        if abs(i - mean_val) > 0.1 * mean_val:\n",
    "            print(\"Too much or less images\")\n",
    "        else:\n",
    "            print(\"Well balanced\", i)\n",
    "\n",
    "\n",
    "def load_and_display_pickle(datasets):\n",
    "    num_of_images = []\n",
    "    for pickle_file in datasets:\n",
    "        f = open(pickle_file, 'rb')\n",
    "        data = pickle.load(f)\n",
    "        print('Total images in', pickle_file, ':', len(data))\n",
    "        num_of_images.append(len(data))\n",
    "\n",
    "    balance_check(num_of_images)\n",
    "    return num_of_images\n",
    "\n",
    "\n",
    "load_and_display_pickle(test_datasets)\n",
    "load_and_display_pickle(train_datasets)"
   ]
  },
  {
   "cell_type": "markdown",
   "metadata": {
    "colab_type": "text",
    "id": "LA7M7K22ynCt"
   },
   "source": [
    "Merge and prune the training data as needed. Depending on your computer setup, you might not be able to fit it all in memory, and you can tune `train_size` as needed. The labels will be stored into a separate array of integers 0 through 9.\n",
    "\n",
    "Also create a validation dataset for hyperparameter tuning."
   ]
  },
  {
   "cell_type": "code",
   "execution_count": 10,
   "metadata": {
    "cellView": "both",
    "colab": {
     "autoexec": {
      "startup": false,
      "wait_interval": 0
     },
     "output_extras": [
      {
       "item_id": 1
      }
     ]
    },
    "colab_type": "code",
    "collapsed": false,
    "executionInfo": {
     "elapsed": 411281,
     "status": "ok",
     "timestamp": 1444485897869,
     "user": {
      "color": "#1FA15D",
      "displayName": "Vincent Vanhoucke",
      "isAnonymous": false,
      "isMe": true,
      "permissionId": "05076109866853157986",
      "photoUrl": "//lh6.googleusercontent.com/-cCJa7dTDcgQ/AAAAAAAAAAI/AAAAAAAACgw/r2EZ_8oYer4/s50-c-k-no/photo.jpg",
      "sessionId": "2a0a5e044bb03b66",
      "userId": "102167687554210253930"
     },
     "user_tz": 420
    },
    "id": "s3mWgZLpyuzq",
    "outputId": "8af66da6-902d-4719-bedc-7c9fb7ae7948",
    "scrolled": true
   },
   "outputs": [
    {
     "name": "stdout",
     "output_type": "stream",
     "text": [
      "Training: (200000, 28, 28) (200000,)\n",
      "Validation: (10000, 28, 28) (10000,)\n",
      "Testing: (10000, 28, 28) (10000,)\n"
     ]
    }
   ],
   "source": [
    "def make_arrays(nb_rows, img_size):\n",
    "  if nb_rows:\n",
    "    dataset = np.ndarray((nb_rows, img_size, img_size), dtype=np.float32)\n",
    "    labels = np.ndarray(nb_rows, dtype=np.int32)\n",
    "  else:\n",
    "    dataset, labels = None, None\n",
    "  return dataset, labels\n",
    "\n",
    "def merge_datasets(pickle_files, train_size, valid_size=0):\n",
    "  num_classes = len(pickle_files)\n",
    "  valid_dataset, valid_labels = make_arrays(valid_size, image_size)\n",
    "  train_dataset, train_labels = make_arrays(train_size, image_size)\n",
    "  vsize_per_class = valid_size // num_classes\n",
    "  tsize_per_class = train_size // num_classes\n",
    "    \n",
    "  start_v, start_t = 0, 0\n",
    "  end_v, end_t = vsize_per_class, tsize_per_class\n",
    "  end_l = vsize_per_class+tsize_per_class\n",
    "  for label, pickle_file in enumerate(pickle_files):       \n",
    "    try:\n",
    "      with open(pickle_file, 'rb') as f:\n",
    "        letter_set = pickle.load(f)\n",
    "        # let's shuffle the letters to have random validation and training set\n",
    "        np.random.shuffle(letter_set)\n",
    "        if valid_dataset is not None:\n",
    "          valid_letter = letter_set[:vsize_per_class, :, :]\n",
    "          valid_dataset[start_v:end_v, :, :] = valid_letter\n",
    "          valid_labels[start_v:end_v] = label\n",
    "          start_v += vsize_per_class\n",
    "          end_v += vsize_per_class\n",
    "                    \n",
    "        train_letter = letter_set[vsize_per_class:end_l, :, :]\n",
    "        train_dataset[start_t:end_t, :, :] = train_letter\n",
    "        train_labels[start_t:end_t] = label\n",
    "        start_t += tsize_per_class\n",
    "        end_t += tsize_per_class\n",
    "    except Exception as e:\n",
    "      print('Unable to process data from', pickle_file, ':', e)\n",
    "      raise\n",
    "    \n",
    "  return valid_dataset, valid_labels, train_dataset, train_labels\n",
    "            \n",
    "            \n",
    "train_size = 200000\n",
    "valid_size = 10000\n",
    "test_size = 10000\n",
    "\n",
    "valid_dataset, valid_labels, train_dataset, train_labels = merge_datasets(\n",
    "  train_datasets, train_size, valid_size)\n",
    "_, _, test_dataset, test_labels = merge_datasets(test_datasets, test_size)\n",
    "\n",
    "print('Training:', train_dataset.shape, train_labels.shape)\n",
    "print('Validation:', valid_dataset.shape, valid_labels.shape)\n",
    "print('Testing:', test_dataset.shape, test_labels.shape)"
   ]
  },
  {
   "cell_type": "markdown",
   "metadata": {
    "colab_type": "text",
    "id": "GPTCnjIcyuKN"
   },
   "source": [
    "Next, we'll randomize the data. It's important to have the labels well shuffled for the training and test distributions to match."
   ]
  },
  {
   "cell_type": "code",
   "execution_count": 11,
   "metadata": {
    "cellView": "both",
    "colab": {
     "autoexec": {
      "startup": false,
      "wait_interval": 0
     }
    },
    "colab_type": "code",
    "collapsed": true,
    "id": "6WZ2l2tN2zOL"
   },
   "outputs": [],
   "source": [
    "def randomize(dataset, labels):\n",
    "  permutation = np.random.permutation(labels.shape[0])\n",
    "  shuffled_dataset = dataset[permutation,:,:]\n",
    "  shuffled_labels = labels[permutation]\n",
    "  return shuffled_dataset, shuffled_labels\n",
    "train_dataset, train_labels = randomize(train_dataset, train_labels)\n",
    "test_dataset, test_labels = randomize(test_dataset, test_labels)\n",
    "valid_dataset, valid_labels = randomize(valid_dataset, valid_labels)"
   ]
  },
  {
   "cell_type": "markdown",
   "metadata": {
    "colab_type": "text",
    "id": "puDUTe6t6USl"
   },
   "source": [
    "---\n",
    "Problem 4\n",
    "---------\n",
    "Convince yourself that the data is still good after shuffling!\n",
    "\n",
    "---"
   ]
  },
  {
   "cell_type": "code",
   "execution_count": 12,
   "metadata": {
    "collapsed": false
   },
   "outputs": [
    {
     "name": "stdout",
     "output_type": "stream",
     "text": [
      "[4 9 6 ..., 2 4 4] [3 6 4 ..., 6 9 0] [1 9 3 ..., 8 9 8]\n",
      "Total images in .\\notMNIST_small\\A.pickle : 1872\n",
      "Total images in .\\notMNIST_small\\B.pickle : 1873\n",
      "Total images in .\\notMNIST_small\\C.pickle : 1873\n",
      "Total images in .\\notMNIST_small\\D.pickle : 1873\n",
      "Total images in .\\notMNIST_small\\E.pickle : 1873\n",
      "Total images in .\\notMNIST_small\\F.pickle : 1872\n",
      "Total images in .\\notMNIST_small\\G.pickle : 1872\n",
      "Total images in .\\notMNIST_small\\H.pickle : 1872\n",
      "Total images in .\\notMNIST_small\\I.pickle : 1872\n",
      "Total images in .\\notMNIST_small\\J.pickle : 1872\n",
      "mean of # images : 1872.4\n",
      "Well balanced 1872\n",
      "Well balanced 1873\n",
      "Well balanced 1873\n",
      "Well balanced 1873\n",
      "Well balanced 1873\n",
      "Well balanced 1872\n",
      "Well balanced 1872\n",
      "Well balanced 1872\n",
      "Well balanced 1872\n",
      "Well balanced 1872\n",
      "Total images in .\\notMNIST_large\\A.pickle : 52909\n",
      "Total images in .\\notMNIST_large\\B.pickle : 52911\n",
      "Total images in .\\notMNIST_large\\C.pickle : 52912\n",
      "Total images in .\\notMNIST_large\\D.pickle : 52911\n",
      "Total images in .\\notMNIST_large\\E.pickle : 52912\n",
      "Total images in .\\notMNIST_large\\F.pickle : 52912\n",
      "Total images in .\\notMNIST_large\\G.pickle : 52912\n",
      "Total images in .\\notMNIST_large\\H.pickle : 52912\n",
      "Total images in .\\notMNIST_large\\I.pickle : 52912\n",
      "Total images in .\\notMNIST_large\\J.pickle : 52911\n",
      "mean of # images : 52911.4\n",
      "Well balanced 52909\n",
      "Well balanced 52911\n",
      "Well balanced 52912\n",
      "Well balanced 52911\n",
      "Well balanced 52912\n",
      "Well balanced 52912\n",
      "Well balanced 52912\n",
      "Well balanced 52912\n",
      "Well balanced 52912\n",
      "Well balanced 52911\n",
      "(28, 28)\n"
     ]
    },
    {
     "data": {
      "image/png": "[encoded data removed]",
      "text/plain": [
       "<matplotlib.figure.Figure at 0x279f47e7b00>"
      ]
     },
     "metadata": {},
     "output_type": "display_data"
    }
   ],
   "source": [
    "#answer to problem 4\n",
    "print(train_labels,test_labels,valid_labels)\n",
    "\n",
    "def mean(numbers):\n",
    "    return float(sum(numbers)) / max(len(numbers), 1)\n",
    "\n",
    "\n",
    "def balance_check(sizes):\n",
    "    mean_val = mean(sizes)\n",
    "    print('mean of # images :', mean_val)\n",
    "    for i in sizes:\n",
    "        if abs(i - mean_val) > 0.1 * mean_val:\n",
    "            print(\"Too much or less images\")\n",
    "        else:\n",
    "            print(\"Well balanced\", i)\n",
    "\n",
    "\n",
    "def load_and_display_pickle(datasets):\n",
    "    num_of_images = []\n",
    "    for pickle_file in datasets:\n",
    "        f = open(pickle_file, 'rb')\n",
    "        data = pickle.load(f)\n",
    "        print('Total images in', pickle_file, ':', len(data))\n",
    "        num_of_images.append(len(data))\n",
    "\n",
    "    balance_check(num_of_images)\n",
    "    return num_of_images\n",
    "\n",
    "\n",
    "load_and_display_pickle(test_datasets)\n",
    "load_and_display_pickle(train_datasets)\n",
    "#############################################\n",
    "\n",
    "file = open(train_datasets[4],'rb')\n",
    "object_file = pickle.load(file)\n",
    "img = object_file[8]\n",
    "print(img.shape)\n",
    "file.close()\n",
    "plt.imshow(img,cmap='gray')\n",
    "plt.show()"
   ]
  },
  {
   "cell_type": "markdown",
   "metadata": {
    "colab_type": "text",
    "id": "tIQJaJuwg5Hw"
   },
   "source": [
    "Finally, let's save the data for later reuse:"
   ]
  },
  {
   "cell_type": "code",
   "execution_count": 13,
   "metadata": {
    "cellView": "both",
    "colab": {
     "autoexec": {
      "startup": false,
      "wait_interval": 0
     }
    },
    "colab_type": "code",
    "collapsed": true,
    "id": "QiR_rETzem6C"
   },
   "outputs": [],
   "source": [
    "pickle_file = os.path.join(data_root, 'notMNIST.pickle')\n",
    "\n",
    "try:\n",
    "  f = open(pickle_file, 'wb')\n",
    "  save = {\n",
    "    'train_dataset': train_dataset,\n",
    "    'train_labels': train_labels,\n",
    "    'valid_dataset': valid_dataset,\n",
    "    'valid_labels': valid_labels,\n",
    "    'test_dataset': test_dataset,\n",
    "    'test_labels': test_labels,\n",
    "    }\n",
    "  pickle.dump(save, f, pickle.HIGHEST_PROTOCOL)\n",
    "  f.close()\n",
    "except Exception as e:\n",
    "  print('Unable to save data to', pickle_file, ':', e)\n",
    "  raise"
   ]
  },
  {
   "cell_type": "code",
   "execution_count": 14,
   "metadata": {
    "cellView": "both",
    "colab": {
     "autoexec": {
      "startup": false,
      "wait_interval": 0
     },
     "output_extras": [
      {
       "item_id": 1
      }
     ]
    },
    "colab_type": "code",
    "collapsed": false,
    "executionInfo": {
     "elapsed": 413065,
     "status": "ok",
     "timestamp": 1444485899688,
     "user": {
      "color": "#1FA15D",
      "displayName": "Vincent Vanhoucke",
      "isAnonymous": false,
      "isMe": true,
      "permissionId": "05076109866853157986",
      "photoUrl": "//lh6.googleusercontent.com/-cCJa7dTDcgQ/AAAAAAAAAAI/AAAAAAAACgw/r2EZ_8oYer4/s50-c-k-no/photo.jpg",
      "sessionId": "2a0a5e044bb03b66",
      "userId": "102167687554210253930"
     },
     "user_tz": 420
    },
    "id": "hQbLjrW_iT39",
    "outputId": "b440efc6-5ee1-4cbc-d02d-93db44ebd956"
   },
   "outputs": [
    {
     "name": "stdout",
     "output_type": "stream",
     "text": [
      "Compressed pickle size: 690800506\n",
      "<_io.BufferedWriter name='.\\\\notMNIST.pickle'>\n"
     ]
    }
   ],
   "source": [
    "statinfo = os.stat(pickle_file)\n",
    "print('Compressed pickle size:', statinfo.st_size)\n",
    "print(f)"
   ]
  },
  {
   "cell_type": "markdown",
   "metadata": {
    "colab_type": "text",
    "id": "gE_cRAQB33lk"
   },
   "source": [
    "---\n",
    "Problem 5\n",
    "---------\n",
    "\n",
    "By construction, this dataset might contain a lot of overlapping samples, including training data that's also contained in the validation and test set! Overlap between training and test can skew the results if you expect to use your model in an environment where there is never an overlap, but are actually ok if you expect to see training samples recur when you use it.\n",
    "Measure how much overlap there is between training, validation and test samples.\n",
    "\n",
    "Optional questions:\n",
    "- What about near duplicates between datasets? (images that are almost identical)\n",
    "- Create a sanitized validation and test set, and compare your accuracy on those in subsequent assignments.\n",
    "---"
   ]
  },
  {
   "cell_type": "code",
   "execution_count": 15,
   "metadata": {
    "collapsed": false
   },
   "outputs": [
    {
     "name": "stdout",
     "output_type": "stream",
     "text": [
      "Duplicates inside training set:  12783\n",
      "Duplicates between training and validation:  953\n",
      "Duplicates between training and test:  1153\n"
     ]
    }
   ],
   "source": [
    "#answer to problem 5\n",
    "\n",
    "train_dataset.flags.writeable = False\n",
    "valid_dataset.flags.writeable = False\n",
    "test_dataset.flags.writeable = False\n",
    "\n",
    "train_hash = [hash(e.tobytes()) for e in train_dataset]\n",
    "valid_hash = [hash(e.tobytes()) for e in valid_dataset]\n",
    "test_hash = [hash(e.tobytes()) for e in test_dataset]\n",
    "\n",
    "unique_train_hash = set(train_hash)\n",
    "valid_overlap = unique_train_hash.intersection(set(valid_hash))\n",
    "test_overlap = unique_train_hash.intersection(set(test_hash))\n",
    "\n",
    "print('Duplicates inside training set: ', len(train_hash) - len(unique_train_hash))\n",
    "print('Duplicates between training and validation: ', len(valid_overlap))\n",
    "print('Duplicates between training and test: ', len(test_overlap))\n",
    "\n"
   ]
  },
  {
   "cell_type": "markdown",
   "metadata": {
    "colab_type": "text",
    "id": "L8oww1s4JMQx"
   },
   "source": [
    "---\n",
    "Problem 6\n",
    "---------\n",
    "\n",
    "Let's get an idea of what an off-the-shelf classifier can give you on this data. It's always good to check that there is something to learn, and that it's a problem that is not so trivial that a canned solution solves it.\n",
    "\n",
    "Train a simple model on this data using 50, 100, 1000 and 5000 training samples. Hint: you can use the LogisticRegression model from sklearn.linear_model.\n",
    "\n",
    "Optional question: train an off-the-shelf model on all the data!\n",
    "\n",
    "---"
   ]
  },
  {
   "cell_type": "code",
   "execution_count": 16,
   "metadata": {
    "collapsed": false
   },
   "outputs": [
    {
     "name": "stdout",
     "output_type": "stream",
     "text": [
      "(200000, 28, 28)\n",
      "(200000,)\n",
      "10000\n",
      "10000\n",
      "10000\n"
     ]
    }
   ],
   "source": [
    "print(train_dataset.shape)\n",
    "print(train_labels.shape)\n",
    "print(len(test_dataset))\n",
    "print(len(test_labels))\n",
    "print(len(valid_dataset))"
   ]
  },
  {
   "cell_type": "code",
   "execution_count": 17,
   "metadata": {
    "collapsed": false
   },
   "outputs": [
    {
     "name": "stdout",
     "output_type": "stream",
     "text": [
      "(200000, 784)\n",
      "(200000,)\n",
      "[3 6 4 ..., 9 9 7]\n"
     ]
    }
   ],
   "source": [
    "#answer to problem number 6\n",
    "#lets build a logistic regression model\n",
    "\n",
    "##########################################\n",
    "# Prepare training data\n",
    "samples, width, height = train_dataset.shape\n",
    "X_train = np.reshape(train_dataset,(samples,width*height))\n",
    "y_train = train_labels\n",
    "\n",
    "# Prepare testing data\n",
    "samples, width, height = test_dataset.shape\n",
    "X_test = np.reshape(test_dataset,(samples,width*height))\n",
    "y_test = test_labels\n",
    "\n",
    "###############################################\n",
    "\n",
    "print(X_train.shape)\n",
    "print(y_train.shape)\n",
    "\n",
    "\n",
    "\n",
    "# instantiate the model (using the default parameters)\n",
    "logreg = LogisticRegression()\n",
    "\n",
    "# fit the model with data\n",
    "logreg.fit(X_train,y_train)\n",
    "\n",
    "predictedOutput = logreg.predict(X_test)\n",
    "print(predictedOutput)\n"
   ]
  },
  {
   "cell_type": "code",
   "execution_count": 27,
   "metadata": {
    "collapsed": false
   },
   "outputs": [
    {
     "name": "stdout",
     "output_type": "stream",
     "text": [
      "[3 6 4 ..., 6 9 0]\n",
      "89.33\n"
     ]
    }
   ],
   "source": [
    "print(y_test)\n",
    "from sklearn import metrics\n",
    "\n",
    "print(metrics.accuracy_score(y_test, predictedOutput)*100)\n"
   ]
  },
  {
   "cell_type": "code",
   "execution_count": 30,
   "metadata": {
    "collapsed": false
   },
   "outputs": [],
   "source": [
    "######################\n",
    "#storing the model\n",
    "# save the model to disk\n",
    "filename = 'model_LogReg.sav'\n",
    "file_to_save = open(filename, 'wb')\n",
    "pickle.dump(logreg, file_to_save)\n",
    "file_to_save.close()\n"
   ]
  },
  {
   "cell_type": "code",
   "execution_count": null,
   "metadata": {
    "collapsed": true
   },
   "outputs": [],
   "source": []
  },
  {
   "cell_type": "code",
   "execution_count": 32,
   "metadata": {
    "collapsed": false
   },
   "outputs": [
    {
     "name": "stdout",
     "output_type": "stream",
     "text": [
      "[3 6 4]\n"
     ]
    }
   ],
   "source": [
    " \n",
    "# some time later...\n",
    " \n",
    "# load the model from disk\n",
    "filename = 'model_LogReg.sav'\n",
    "file_to_open = open(filename, 'rb')\n",
    "loaded_model = pickle.load(file_to_open)\n",
    "result = loaded_model.predict([X_test[0],X_test[1],X_test[2]])\n",
    "print(result)"
   ]
  },
  {
   "cell_type": "code",
   "execution_count": null,
   "metadata": {
    "collapsed": true
   },
   "outputs": [],
   "source": []
  }
 ],
 "metadata": {
  "colab": {
   "default_view": {},
   "name": "1_notmnist.ipynb",
   "provenance": [],
   "version": "0.3.2",
   "views": {}
  },
  "kernelspec": {
   "display_name": "Python 3",
   "language": "python",
   "name": "python3"
  },
  "language_info": {
   "codemirror_mode": {
    "name": "ipython",
    "version": 3
   },
   "file_extension": ".py",
   "mimetype": "text/x-python",
   "name": "python",
   "nbconvert_exporter": "python",
   "pygments_lexer": "ipython3",
   "version": "3.6.0"
  }
 },
 "nbformat": 4,
 "nbformat_minor": 0
}
